{
 "cells": [
  {
   "cell_type": "markdown",
   "metadata": {
    "_cell_guid": "79c7e3d0-c299-4dcb-8224-4455121ee9b0",
    "_uuid": "d629ff2d2480ee46fbb7e2d37f6b5fab8052498a",
    "collapsed": true
   },
   "source": [
    "# Objective"
   ]
  },
  {
   "cell_type": "markdown",
   "metadata": {},
   "source": [
    "After learning from some exceptional work from incredible Kaggler's I have decided to come up with this Kernel for Exploratory Data Analysis and Feature Engineering along with basic data modeling and model evaluation. \n",
    "\n",
    "This is primarily for newbies in Machine Learning to introduce them with these terms and ways to use them. I have kept the language, code, and explanation as simple as possible for ease of understanding.\n",
    "\n",
    "I have used [dataset](https://www.kaggle.com/c/titanic/data) which is provided by <a>Kaggle</a> for [Titanic: Machine Learning from Disaster Competition](https://www.kaggle.com/c/titanic/overview)"
   ]
  },
  {
   "cell_type": "markdown",
   "metadata": {},
   "source": [
    "# Exploratory Data Analysis"
   ]
  },
  {
   "cell_type": "markdown",
   "metadata": {},
   "source": [
    "Let's start with importing libraries and data set"
   ]
  },
  {
   "cell_type": "code",
   "execution_count": 1,
   "metadata": {
    "_cell_guid": "b1076dfc-b9ad-4769-8c92-a6c4dae69d19",
    "_kg_hide-input": true,
    "_kg_hide-output": true,
    "_uuid": "8f2839f25d086af736a60e9eeb907d3b93b6e0e5"
   },
   "outputs": [],
   "source": [
    "# This Python 3 environment comes with many helpful analytics libraries installed\n",
    "# It is defined by the kaggle/python docker image: https://github.com/kaggle/docker-python\n",
    "# For example, here's several helpful packages to load in \n",
    "\n",
    "import numpy as np # linear algebra\n",
    "import pandas as pd # data processing, CSV file I/O (e.g. pd.read_csv)\n",
    "\n",
    "# Input data files are available in the \"../input/\" directory.\n",
    "# For example, running this (by clicking run or pressing Shift+Enter) will list all files under the input directory\n",
    "\n",
    "import os\n",
    "for dirname, _, filenames in os.walk('/kaggle/input'):\n",
    "    for filename in filenames:\n",
    "        print(os.path.join(dirname, filename))\n",
    "\n",
    "# Any results you write to the current directory are saved as output."
   ]
  },
  {
   "cell_type": "code",
   "execution_count": 2,
   "metadata": {
    "_kg_hide-input": true
   },
   "outputs": [
    {
     "ename": "ModuleNotFoundError",
     "evalue": "No module named 'plotly'",
     "output_type": "error",
     "traceback": [
      "\u001b[1;31m---------------------------------------------------------------------------\u001b[0m",
      "\u001b[1;31mModuleNotFoundError\u001b[0m                       Traceback (most recent call last)",
      "\u001b[1;32m<ipython-input-2-8378affad76a>\u001b[0m in \u001b[0;36m<module>\u001b[1;34m\u001b[0m\n\u001b[0;32m      5\u001b[0m \u001b[1;32mimport\u001b[0m \u001b[0mpandas\u001b[0m \u001b[1;32mas\u001b[0m \u001b[0mpd\u001b[0m\u001b[1;33m\u001b[0m\u001b[1;33m\u001b[0m\u001b[0m\n\u001b[0;32m      6\u001b[0m \u001b[1;32mimport\u001b[0m \u001b[0mmatplotlib\u001b[0m\u001b[1;33m.\u001b[0m\u001b[0mpyplot\u001b[0m \u001b[1;32mas\u001b[0m \u001b[0mplt\u001b[0m\u001b[1;33m\u001b[0m\u001b[1;33m\u001b[0m\u001b[0m\n\u001b[1;32m----> 7\u001b[1;33m \u001b[1;32mimport\u001b[0m \u001b[0mplotly\u001b[0m\u001b[1;33m.\u001b[0m\u001b[0mgraph_objects\u001b[0m \u001b[1;32mas\u001b[0m \u001b[0mgo\u001b[0m\u001b[1;33m\u001b[0m\u001b[1;33m\u001b[0m\u001b[0m\n\u001b[0m\u001b[0;32m      8\u001b[0m \u001b[1;32mimport\u001b[0m \u001b[0mplotly\u001b[0m\u001b[1;33m.\u001b[0m\u001b[0mexpress\u001b[0m \u001b[1;32mas\u001b[0m \u001b[0mpx\u001b[0m\u001b[1;33m\u001b[0m\u001b[1;33m\u001b[0m\u001b[0m\n\u001b[0;32m      9\u001b[0m \u001b[1;32mfrom\u001b[0m \u001b[0msklearn\u001b[0m\u001b[1;33m.\u001b[0m\u001b[0mensemble\u001b[0m \u001b[1;32mimport\u001b[0m \u001b[0mRandomForestClassifier\u001b[0m\u001b[1;33m\u001b[0m\u001b[1;33m\u001b[0m\u001b[0m\n",
      "\u001b[1;31mModuleNotFoundError\u001b[0m: No module named 'plotly'"
     ]
    }
   ],
   "source": [
    "#Importing required libraries\n",
    "#Importing the required libraries and data set \n",
    "import numpy as np\n",
    "import seaborn as sns\n",
    "import pandas as pd\n",
    "import matplotlib.pyplot as plt\n",
    "import plotly.graph_objects as go\n",
    "import plotly.express as px\n",
    "from sklearn.ensemble import RandomForestClassifier\n",
    "\n",
    "print(\"Important libraries loaded successfully\")"
   ]
  },
  {
   "cell_type": "code",
   "execution_count": null,
   "metadata": {
    "_kg_hide-input": true
   },
   "outputs": [],
   "source": [
    "ds_train=pd.read_csv(\"train.csv\")\n",
    "ds_test=pd.read_csv(\"test.csv\")\n",
    "print(\"Train and Test data sets are imported successfully\")"
   ]
  },
  {
   "cell_type": "markdown",
   "metadata": {},
   "source": [
    "## Data Overview"
   ]
  },
  {
   "cell_type": "markdown",
   "metadata": {},
   "source": [
    "After importing the library let's check how many rows are present in Train and Test set."
   ]
  },
  {
   "cell_type": "code",
   "execution_count": null,
   "metadata": {
    "_kg_hide-input": true
   },
   "outputs": [],
   "source": [
    "print(\"Test and Training data details are as follows: \")\n",
    "print('Number of Training Examples = {}'.format(ds_train.shape[0]))\n",
    "print('Number of Test Examples = {}\\n'.format(ds_test.shape[0]))"
   ]
  },
  {
   "cell_type": "markdown",
   "metadata": {},
   "source": [
    "## Features Analysis and Explanation"
   ]
  },
  {
   "cell_type": "markdown",
   "metadata": {},
   "source": [
    "Let's try to understand each features in training data set"
   ]
  },
  {
   "cell_type": "code",
   "execution_count": null,
   "metadata": {
    "_kg_hide-input": true
   },
   "outputs": [],
   "source": [
    "ds_train.head()"
   ]
  },
  {
   "cell_type": "markdown",
   "metadata": {},
   "source": [
    "* **Survived** is a target variable where survival is predicted in binanry format i.e. **0** for Not Survived and **1** for Survived\n",
    "* **PassengerId** and **Ticket** variables can be assumed as Random unique Identifiers of Passengers and they don't have any impact on outcome ,hence we can ignore them\n",
    "* **Pclass** is an ordinal datatype for the ticket class,it's a passenger's socio-economic status which played an important role in survival , it may impact target variable so we will keep it in our train data set. It's unique values are **1 = Upper Class** , **2 = Middle Class** and **3 = Lower Class**\n",
    "* **Name** It could be used to derive socio-economic status from title (like Doctor or Master)\n",
    "* **Sex** Gender played an important role in survival , so we will keep this in our feature list \n",
    "* **SibSp and Parch** These two variables represent total number of the passenger's siblings/spouse and parents/children on board , it could be used to create a new variable 'Family Size'. This is an example of Feature Engineering\n",
    "* **Age** , Like Gender Age could also played a role in survival , will keep this is our feature list\n",
    "* **Fare** , price of ticket also represnt socio-economic status , let's keep this also \n",
    "* **Cabin** this is Cabin number of the passenger and it can be used in feature engineering to get an approximate position of passenger when accident happened,also from deck level we can deduce socio-economic status. However, on closer look at data it looks like that there are many null values so we can drop this column from our feature list\n",
    "* **Embarked** is port of embarkation and it is a categorical feature which has following **3** unique values **C = Cherbourg**,**Q = Queenstown** and **S = Southampton** , this may have impact on target variable we will keep this variable for now.\n",
    "\n",
    "Let's drop **Ticket** and **Cabin** columns from training data set"
   ]
  },
  {
   "cell_type": "code",
   "execution_count": null,
   "metadata": {
    "_kg_hide-input": true
   },
   "outputs": [],
   "source": [
    "#Drop columns from training data set\n",
    "ds_train=ds_train.drop(['Ticket','Cabin'],axis=1)\n",
    "print(\"Columns Dropped Successfully\")\n",
    "ds_train.head()"
   ]
  },
  {
   "cell_type": "markdown",
   "metadata": {
    "_kg_hide-input": true
   },
   "source": [
    "Now , we will try to see some relation between these features.\n",
    "\n",
    "First start with passenger's **Age**"
   ]
  },
  {
   "cell_type": "code",
   "execution_count": null,
   "metadata": {
    "_kg_hide-input": true
   },
   "outputs": [],
   "source": [
    "#Converting Age into series and visualizing the age distribution\n",
    "age_series=pd.Series(ds_train['Age'].value_counts())\n",
    "fig=px.scatter(age_series,y=age_series.values,x=age_series.index)\n",
    "fig.update_layout(\n",
    "    title=\"Age Distribution\",\n",
    "    xaxis_title=\"Age in Years\",\n",
    "    yaxis_title=\"Count of People\",\n",
    "    font=dict(\n",
    "        family=\"Courier New, monospace\",\n",
    "        size=18,\n",
    "    )\n",
    ")\n",
    "fig.show()"
   ]
  },
  {
   "cell_type": "markdown",
   "metadata": {},
   "source": [
    "We can see that there are some number of passengers who less than 20 years , let's calculate the count"
   ]
  },
  {
   "cell_type": "code",
   "execution_count": null,
   "metadata": {
    "_kg_hide-input": true
   },
   "outputs": [],
   "source": [
    "print(\"Number of teenagers and child passengers in ship are {}\".format(len(ds_train[ds_train['Age'] < 20 ])))"
   ]
  },
  {
   "cell_type": "markdown",
   "metadata": {},
   "source": [
    "📌 **Take Away Points**\n",
    "* Majority of passengers aged more than **20** years and less than **50** years\n",
    "* Maximum number of passengers (30 in numbers) are of **24** years old\n",
    "* There are **164** passengers who are less than 20 years old  \n",
    "\n",
    "Let's break this further and add **Gender** with Age. First let's see how diversified among passenger"
   ]
  },
  {
   "cell_type": "code",
   "execution_count": null,
   "metadata": {
    "_kg_hide-input": true
   },
   "outputs": [],
   "source": [
    "print(\"Number of Passengers Gender Wise \\n{}\".format(ds_train['Sex'].value_counts()))\n",
    "#Gender wise distribution\n",
    "fig = go.Figure(data=[go.Pie(labels=ds_train['Sex'],hole=.4)])\n",
    "fig.update_layout(\n",
    "    title=\"Sex Distribution\",\n",
    "    font=dict(\n",
    "        family=\"Courier New, monospace\",\n",
    "        size=18\n",
    "    ))\n",
    "fig.show()"
   ]
  },
  {
   "cell_type": "markdown",
   "metadata": {
    "_kg_hide-input": true
   },
   "source": [
    "It's quiet evident that number of male passengers are almost double of female passengers.\n",
    "\n",
    "Let's see how many female and male survived."
   ]
  },
  {
   "cell_type": "code",
   "execution_count": null,
   "metadata": {
    "_kg_hide-input": true
   },
   "outputs": [],
   "source": [
    "#Create categorical variable graph for Age,Sex and Survived variables\n",
    "sns.catplot(x=\"Survived\", y=\"Age\", hue=\"Sex\", kind=\"swarm\", data=ds_train,height=10,aspect=1.5)\n",
    "plt.title('Passengers Survival Distribution: Age and Sex',size=25)\n",
    "plt.show()\n"
   ]
  },
  {
   "cell_type": "markdown",
   "metadata": {},
   "source": [
    "It's pretty evident from above graph that majority of female passengers are survived\n",
    "\n",
    "📌 **Take Away Points**\n",
    "\n",
    " * Majority of Male passengers aged between 20 to 50 years had not survived . It means **most of the young men had not survived this disaster**\n",
    " * Oldest male passenger aged 80 years ,had survived\n",
    " * Age and Sex were major factors in deciding passenger's fate\n",
    " \n",
    " Now , let's see **Pclass** variable relation with survival"
   ]
  },
  {
   "cell_type": "code",
   "execution_count": null,
   "metadata": {
    "_kg_hide-input": true
   },
   "outputs": [],
   "source": [
    "#Visualize relation between Pclass and Survival\n",
    "fig = go.Figure(data=[go.Pie(labels=ds_train['Pclass'],hole=.4)])\n",
    "fig.update_layout(\n",
    "    title=\"PClass Distribution\",\n",
    "    font=dict(\n",
    "        family=\"Courier New, monospace\",\n",
    "        size=18\n",
    "    ))\n",
    "fig.show()"
   ]
  },
  {
   "cell_type": "markdown",
   "metadata": {},
   "source": [
    "More than half of the passengers were travelling in **Lower Class**. Let's see how survival is linked with Pclass"
   ]
  },
  {
   "cell_type": "code",
   "execution_count": null,
   "metadata": {
    "_kg_hide-input": true
   },
   "outputs": [],
   "source": [
    "#Visualize PClass and Survival\n",
    "#Create categorical variable graph for Age,Pclass and Survived variables\n",
    "sns.catplot(x=\"Survived\", y=\"Age\", hue=\"Pclass\", kind=\"swarm\", data=ds_train,height=10,aspect=1.5)\n",
    "plt.title('Passengers Survival Distribution: Age and Pclass',size=25)\n",
    "plt.show()"
   ]
  },
  {
   "cell_type": "markdown",
   "metadata": {},
   "source": [
    "Well,it looks like that majority of young passengers who are travelling in lower class had not survived\n",
    "\n",
    "📌 **Take Away Points**\n",
    "\n",
    " * Majority of young male passengers aged between 20 to 50 years and travelling in lower class had not survived \n",
    " * Oldest male passenger who survived the disaster was travelling in upper class\n",
    " * Young men who survived the disaster were travelling in upper class\n",
    " * Passengers Socio Economic Status palyed a vital role in survival\n",
    " \n",
    " > **We can deduce one thing clearly ,if passenger was man aged between 20-50 and not so rich at the time of travel then their chances of survival were very less**\n",
    "\n",
    "To support our Socio Economic Status theory let's focus on one more variable **Fare**\n",
    "\n",
    "\n"
   ]
  },
  {
   "cell_type": "code",
   "execution_count": null,
   "metadata": {
    "_kg_hide-input": true
   },
   "outputs": [],
   "source": [
    "#Visualize Fare and Survival\n",
    "#Create categorical variable graph for Sex,Fare and Survived variables\n",
    "sns.catplot(x=\"Survived\", y=\"Fare\", hue=\"Sex\", kind=\"swarm\", data=ds_train,height=10,aspect=1.5)\n",
    "plt.title('Passengers Survival Distribution: Fare and Sex',size=25)\n",
    "plt.show()"
   ]
  },
  {
   "cell_type": "markdown",
   "metadata": {},
   "source": [
    "It's clear that female passengers with lowest fare also survived the disaster and passenger with highest fare also survived , irrespective of the gender and this proves our theory that **Socio Economic Status played an improtant role in survival**\n",
    "\n",
    "At last we will see **Embarked** variable's impact on survival"
   ]
  },
  {
   "cell_type": "code",
   "execution_count": null,
   "metadata": {
    "_kg_hide-input": true
   },
   "outputs": [],
   "source": [
    "#Visualize relation between Embarked and Survival\n",
    "fig = go.Figure(data=[go.Pie(labels=ds_train['Embarked'],hole=.4)])\n",
    "fig.update_layout(\n",
    "    title=\"Embarked Distribution\",\n",
    "    font=dict(\n",
    "        family=\"Courier New, monospace\",\n",
    "        size=18\n",
    "    ))\n",
    "fig.show()"
   ]
  },
  {
   "cell_type": "markdown",
   "metadata": {},
   "source": [
    "Majority of passengers embarked from **Southampton** , it may be the journey start point"
   ]
  },
  {
   "cell_type": "code",
   "execution_count": null,
   "metadata": {
    "_kg_hide-input": true
   },
   "outputs": [],
   "source": [
    "#Visualize Embarked and Survival\n",
    "#Create categorical variable graph for Embarked,Age and Survived variables\n",
    "sns.catplot(x=\"Survived\", y=\"Age\", hue=\"Embarked\", kind=\"swarm\", data=ds_train,height=10,aspect=1.5)\n",
    "plt.title('Passengers Survival Distribution: Embarked and Age',size=25)\n",
    "plt.show()"
   ]
  },
  {
   "cell_type": "markdown",
   "metadata": {},
   "source": [
    "As there is no direct releation between Embarked and Survived variables we can drop this from our feature list.\n",
    "\n",
    "Also, we can drop 'Name' column from our feature list as we have other features/columns for Socio Economic Status relation with survival\n",
    "\n"
   ]
  },
  {
   "cell_type": "code",
   "execution_count": null,
   "metadata": {
    "_kg_hide-input": true
   },
   "outputs": [],
   "source": [
    "#Drop columns from training data set\n",
    "ds_train=ds_train.drop(['Embarked','Name'],axis=1)\n",
    "print(\"Columns Dropped Successfully\")\n",
    "ds_train.head()"
   ]
  },
  {
   "cell_type": "markdown",
   "metadata": {},
   "source": [
    "Let's check correlation cofficent between our features\n"
   ]
  },
  {
   "cell_type": "code",
   "execution_count": null,
   "metadata": {
    "_kg_hide-input": true
   },
   "outputs": [],
   "source": [
    "# Training set high correlations\n",
    "ds_train.corr()"
   ]
  },
  {
   "cell_type": "markdown",
   "metadata": {},
   "source": [
    "We can see correlation between 'Survived' and 'Fare' but other variables are not directly related with Survived but related to other variable\n",
    "\n",
    "📌 **Take Away Points**\n",
    "\n",
    "* Age is correlated to Fare and Fare is correlated to Survived and our previous analysis also show how Age played role in survival\n",
    "* SibSp and Parch are realted to each other and also both related to Fare which make sense becuase more number of people means more fare, by virtue of this both can be related to Survived, we can further analysis on this in next section of Feature Engineering"
   ]
  },
  {
   "cell_type": "markdown",
   "metadata": {},
   "source": [
    "# Feature Engineering"
   ]
  },
  {
   "cell_type": "markdown",
   "metadata": {},
   "source": [
    "Let's start Feature Engineering with creating new variable **Family Size** by adding **SibSp** , **Parch** and **One**(Current Passenger)"
   ]
  },
  {
   "cell_type": "code",
   "execution_count": null,
   "metadata": {
    "_kg_hide-input": true
   },
   "outputs": [],
   "source": [
    "#Add new column 'Family Size' in training model set\n",
    "ds_train['Family_Size'] = ds_train['SibSp'] + ds_train['Parch'] + 1\n",
    "print(\"Family Size column created sucessfully\")\n",
    "ds_train.head()"
   ]
  },
  {
   "cell_type": "markdown",
   "metadata": {},
   "source": [
    "Now we will see how Family size will is realted with Survived variable"
   ]
  },
  {
   "cell_type": "code",
   "execution_count": null,
   "metadata": {
    "_kg_hide-input": true
   },
   "outputs": [],
   "source": [
    "#Visualize Family size and Survival\n",
    "sns.barplot(x=\"Family_Size\", y=\"Age\", hue=\"Survived\", data=ds_train,palette = 'rainbow')\n",
    "plt.title('Family Size - Age Survival Distribution',size=20)\n",
    "plt.show()\n"
   ]
  },
  {
   "cell_type": "code",
   "execution_count": null,
   "metadata": {
    "_kg_hide-input": true
   },
   "outputs": [],
   "source": [
    "sns.catplot(y=\"Family_Size\", x=\"Survived\", hue='Sex',kind=\"swarm\", data=ds_train,height=8,aspect=1.5)\n",
    "plt.title('Family Size - Gender Survival Distribution',size=25)\n",
    "plt.show()"
   ]
  },
  {
   "cell_type": "markdown",
   "metadata": {},
   "source": [
    "📌 **Take Away Points**\n",
    "\n",
    "* Chances of survival are less for large Family (>5 memebers) \n",
    "* If family size is small then main passenger gender decides on survival , this prove previous deduction that gender played major role in survival\n",
    "* Survival data is marked for main passenger and not for whole family, whereas family members name must be there in the list and they may or may not survived . In other words on just looking at survival column we can not dedeuce that fate of all family member were same"
   ]
  },
  {
   "cell_type": "markdown",
   "metadata": {},
   "source": [
    "## Missing Values"
   ]
  },
  {
   "cell_type": "markdown",
   "metadata": {},
   "source": [
    "Before start with modeling let's check with missing values in training data set columns.\n",
    "\n"
   ]
  },
  {
   "cell_type": "code",
   "execution_count": null,
   "metadata": {
    "_kg_hide-input": true
   },
   "outputs": [],
   "source": [
    "print(\"Information on Train Data Set :\")\n",
    "ds_train.info()"
   ]
  },
  {
   "cell_type": "markdown",
   "metadata": {},
   "source": [
    "Only 'Age' is having missing values and we can replace missing values with median age , but putting median age for whole data set is not a good idea becuase passenger belongs to different Age group.\n",
    "\n",
    "To overcome this we can calculate Median age based on 'Pclass' and 'Sex'\n",
    "\n",
    "> **Note: I took some help from this [Kernel](https://www.kaggle.com/gunesevitan/titanic-advanced-feature-engineering-tutorial#1.-Exploratory-Data-Analysis) for this median value of Age**"
   ]
  },
  {
   "cell_type": "code",
   "execution_count": null,
   "metadata": {
    "_kg_hide-input": true
   },
   "outputs": [],
   "source": [
    "age_by_pclass_sex = ds_train.groupby(['Sex', 'Pclass']).median()['Age']\n",
    "\n",
    "for pclass in range(1, 4):\n",
    "    for sex in ['female', 'male']:\n",
    "        print('Median age of Pclass {} {}s: {}'.format(pclass, sex, age_by_pclass_sex[sex][pclass]))\n",
    "print('Median age of all passengers: {}'.format(ds_train['Age'].median()))\n",
    "\n",
    "# Filling the missing values in Age with the medians of Sex and Pclass groups\n",
    "ds_train['Age'] = ds_train.groupby(['Sex', 'Pclass'])['Age'].apply(lambda x: x.fillna(x.median()))"
   ]
  },
  {
   "cell_type": "markdown",
   "metadata": {},
   "source": [
    "Let's check the data set information one more time to verify missing values"
   ]
  },
  {
   "cell_type": "code",
   "execution_count": null,
   "metadata": {
    "_kg_hide-input": true
   },
   "outputs": [],
   "source": [
    "print(\"Information on Train Data Set :\")\n",
    "ds_train.info()"
   ]
  },
  {
   "cell_type": "markdown",
   "metadata": {},
   "source": [
    "Well , there is no missing values in our train data set but before we start our modeling let's encode 'Sex' column as this is the only column left as categorical variable.\n",
    "\n",
    "As this column consist of only two values let's encode this with **1** for feamle and **0** for male , we can use hot encoder also but for starters let's avoid that as we have very simple column to encode"
   ]
  },
  {
   "cell_type": "code",
   "execution_count": null,
   "metadata": {},
   "outputs": [],
   "source": [
    "#Replacing 'Male' and 'Female' with '0' and '1' respectively\n",
    "ds_train=ds_train.replace(to_replace='male',value=0)\n",
    "ds_train=ds_train.replace(to_replace='female',value=1)\n",
    "ds_train.head()"
   ]
  },
  {
   "cell_type": "markdown",
   "metadata": {},
   "source": [
    "Now, every feature is in same scale let's start with Data Modeling and Prediction"
   ]
  },
  {
   "cell_type": "markdown",
   "metadata": {},
   "source": [
    "# Modeling and Prediction"
   ]
  },
  {
   "cell_type": "markdown",
   "metadata": {},
   "source": [
    "Let's start with moving target and feature variables"
   ]
  },
  {
   "cell_type": "code",
   "execution_count": null,
   "metadata": {
    "_kg_hide-input": true
   },
   "outputs": [],
   "source": [
    "X_train=ds_train.drop(['Survived'],axis=1)\n",
    "y_train=ds_train['Survived'].values\n",
    "print('X_train shape: {}'.format(X_train.shape))\n",
    "print('y_train shape: {}'.format(y_train.shape))"
   ]
  },
  {
   "cell_type": "markdown",
   "metadata": {},
   "source": [
    "For this data set I will be using Random Forest Classifier , we can use other classifier models but for the sake of simplicity I will use only one model here"
   ]
  },
  {
   "cell_type": "code",
   "execution_count": null,
   "metadata": {},
   "outputs": [],
   "source": [
    "classifier=RandomForestClassifier(criterion='gini', \n",
    "                                           n_estimators=1100,\n",
    "                                           max_depth=5,\n",
    "                                           min_samples_split=4,\n",
    "                                           min_samples_leaf=5,\n",
    "                                           max_features='auto',\n",
    "                                           oob_score=True,\n",
    "                                           random_state=42,\n",
    "                                           n_jobs=-1,\n",
    "                                           verbose=1)\n",
    "classifier.fit(X_train,y_train)"
   ]
  },
  {
   "cell_type": "markdown",
   "metadata": {},
   "source": [
    "Before predicting from test set we need to clean test data set to make it equivalent with training data set i.e. need to drop unnecessary columns and encoded Sex column and missing values\n",
    "\n",
    "Let's start with missing values"
   ]
  },
  {
   "cell_type": "code",
   "execution_count": null,
   "metadata": {
    "_kg_hide-input": true
   },
   "outputs": [],
   "source": [
    "ds_test.info()"
   ]
  },
  {
   "cell_type": "markdown",
   "metadata": {},
   "source": [
    "Here also Age is missing , let's fill in the similar way how we did it for training data"
   ]
  },
  {
   "cell_type": "code",
   "execution_count": null,
   "metadata": {
    "_kg_hide-input": true
   },
   "outputs": [],
   "source": [
    "age_by_pclass_sex = ds_test.groupby(['Sex', 'Pclass']).median()['Age']\n",
    "\n",
    "for pclass in range(1, 4):\n",
    "    for sex in ['female', 'male']:\n",
    "        print('Median age of Pclass {} {}s: {}'.format(pclass, sex, age_by_pclass_sex[sex][pclass]))\n",
    "print('Median age of all passengers: {}'.format(ds_test['Age'].median()))\n",
    "\n",
    "# Filling the missing values in Age with the medians of Sex and Pclass groups\n",
    "ds_test['Age'] = ds_test.groupby(['Sex', 'Pclass'])['Age'].apply(lambda x: x.fillna(x.median()))"
   ]
  },
  {
   "cell_type": "markdown",
   "metadata": {},
   "source": [
    "Let's check one more time for missing values"
   ]
  },
  {
   "cell_type": "code",
   "execution_count": null,
   "metadata": {},
   "outputs": [],
   "source": [
    "ds_test.info()"
   ]
  },
  {
   "cell_type": "markdown",
   "metadata": {},
   "source": [
    "Now , only one value is missing from 'Fare' column which we can fill by median fare"
   ]
  },
  {
   "cell_type": "code",
   "execution_count": null,
   "metadata": {
    "_kg_hide-input": true
   },
   "outputs": [],
   "source": [
    "#Filling missing fare with median fare\n",
    "null_index=ds_test['Fare'].isnull().index\n",
    "medianFare=ds_test['Fare'].median()\n",
    "ds_test.at[null_index,'Fare'] = medianFare\n",
    "print(\"Missing Fare updated as Median Fare :{}\".format(medianFare))"
   ]
  },
  {
   "cell_type": "markdown",
   "metadata": {},
   "source": [
    "Let's check one more time for missing values"
   ]
  },
  {
   "cell_type": "code",
   "execution_count": null,
   "metadata": {},
   "outputs": [],
   "source": [
    "ds_test.info()"
   ]
  },
  {
   "cell_type": "code",
   "execution_count": null,
   "metadata": {
    "_kg_hide-input": true
   },
   "outputs": [],
   "source": [
    "#Drop columns from test data set\n",
    "ds_test=ds_test.drop(['Ticket','Cabin','Embarked','Name'],axis=1)\n",
    "print(\"Columns Dropped Successfully\")\n",
    "\n",
    "#Creating Family Size columns from test data set\n",
    "ds_test['Family_Size'] = ds_test['SibSp'] + ds_test['Parch'] + 1\n",
    "print(\"Family Size column created sucessfully\")\n",
    "\n",
    "#Encoding Gender column from test data set\n",
    "ds_test=ds_test.replace(to_replace='male',value=0)\n",
    "ds_test=ds_test.replace(to_replace='female',value=1)\n",
    "X_test=ds_test\n",
    "\n",
    "X_test.head()"
   ]
  },
  {
   "cell_type": "markdown",
   "metadata": {},
   "source": [
    "With this we are ready to get predicted values and submission file"
   ]
  },
  {
   "cell_type": "code",
   "execution_count": null,
   "metadata": {
    "_kg_hide-input": true
   },
   "outputs": [],
   "source": [
    "#Prediction test results\n",
    "y_pred=classifier.predict(X_test)\n",
    "\n",
    "#Converting 2 dimensional  y_pred array into single dimension \n",
    "y_pred=y_pred.ravel()\n",
    "\n",
    "#Creating submission data frame and subsequent csv file for submission\n",
    "submission_df = pd.DataFrame(columns=['PassengerId', 'Survived'])\n",
    "submission_df['PassengerId'] = X_test['PassengerId'].astype(int)\n",
    "submission_df['Survived'] = y_pred\n",
    "submission_df.to_csv('submissions.csv', header=True, index=False)\n",
    "submission_df.head(10)"
   ]
  },
  {
   "cell_type": "markdown",
   "metadata": {},
   "source": [
    "With above submission my score was coming 79% Accuracy , this can be improved further after fine tuning of classifier "
   ]
  }
 ],
 "metadata": {
  "kernelspec": {
   "display_name": "Python 3",
   "language": "python",
   "name": "python3"
  },
  "language_info": {
   "codemirror_mode": {
    "name": "ipython",
    "version": 3
   },
   "file_extension": ".py",
   "mimetype": "text/x-python",
   "name": "python",
   "nbconvert_exporter": "python",
   "pygments_lexer": "ipython3",
   "version": "3.7.4"
  }
 },
 "nbformat": 4,
 "nbformat_minor": 1
}
