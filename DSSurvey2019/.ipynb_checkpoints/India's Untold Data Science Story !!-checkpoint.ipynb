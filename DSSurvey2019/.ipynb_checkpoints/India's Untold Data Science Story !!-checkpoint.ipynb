{
 "cells": [
  {
   "cell_type": "markdown",
   "metadata": {},
   "source": [
    "# Introduction"
   ]
  },
  {
   "cell_type": "markdown",
   "metadata": {},
   "source": [
    "**Objective** : In this Kernel I am trying to explore current scenario of Data science field in India and comparison with their contemporaries from rest of the world.\n",
    "\n",
    "My intention is to analyze <a>trends/relations/distribution</a> in 2019 [Kaggle ML & DS Survey](https://www.kaggle.com/c/kaggle-survey-2019/data.) data from India's perspective and list out the things in which Indians are good and also the things which we have to improve to get new heights in Data Science field.\n",
    "\n",
    "I have tried to keep the explanation short and simple as much as possible along with simple graphs , if you like the work please upvote and feel free to drop comments for any suggestions/questions.\n"
   ]
  },
  {
   "cell_type": "markdown",
   "metadata": {},
   "source": [
    "Let's import the data and cleanse for further analysis\n",
    "\n"
   ]
  },
  {
   "cell_type": "code",
   "execution_count": 1,
   "metadata": {
    "_cell_guid": "b1076dfc-b9ad-4769-8c92-a6c4dae69d19",
    "_kg_hide-input": true,
    "_kg_hide-output": true,
    "_uuid": "8f2839f25d086af736a60e9eeb907d3b93b6e0e5"
   },
   "outputs": [],
   "source": [
    "# This Python 3 environment comes with many helpful analytics libraries installed\n",
    "# It is defined by the kaggle/python docker image: https://github.com/kaggle/docker-python\n",
    "# For example, here's several helpful packages to load in \n",
    "\n",
    "import numpy as np # linear algebra\n",
    "import pandas as pd # data processing, CSV file I/O (e.g. pd.read_csv)\n",
    "\n",
    "# Input data files are available in the \"../input/\" directory.\n",
    "# For example, running this (by clicking run or pressing Shift+Enter) will list all files under the input directory\n",
    "\n",
    "\n",
    "# Any results you write to the current directory are saved as output."
   ]
  },
  {
   "cell_type": "code",
   "execution_count": null,
   "metadata": {
    "_cell_guid": "79c7e3d0-c299-4dcb-8224-4455121ee9b0",
    "_kg_hide-input": true,
    "_kg_hide-output": true,
    "_uuid": "d629ff2d2480ee46fbb7e2d37f6b5fab8052498a"
   },
   "outputs": [],
   "source": [
    "#Importing the required libraries\n",
    "import seaborn as sns\n",
    "import matplotlib.pyplot as plt\n",
    "import plotly.graph_objects as go\n",
    "import plotly.express as px"
   ]
  },
  {
   "cell_type": "code",
   "execution_count": null,
   "metadata": {
    "_kg_hide-input": true,
    "_kg_hide-output": true
   },
   "outputs": [],
   "source": [
    "#Importing all data set\n",
    "dataset_mcq=pd.read_csv(\"../multiple_choice_responses.csv\")"
   ]
  },
  {
   "cell_type": "code",
   "execution_count": null,
   "metadata": {
    "_kg_hide-input": true
   },
   "outputs": [],
   "source": [
    "#Removing the header \n",
    "dataset_mcq.columns=dataset_mcq.iloc[0]\n",
    "#Removing the first row\n",
    "dataset_mcq=dataset_mcq.drop([0])"
   ]
  },
  {
   "cell_type": "markdown",
   "metadata": {},
   "source": [
    "Will be using following data set for our analysis"
   ]
  },
  {
   "cell_type": "code",
   "execution_count": null,
   "metadata": {
    "_kg_hide-input": true
   },
   "outputs": [],
   "source": [
    "#First few rows\n",
    "dataset_mcq.head()"
   ]
  },
  {
   "cell_type": "markdown",
   "metadata": {},
   "source": [
    "Total number of records in this data set are"
   ]
  },
  {
   "cell_type": "code",
   "execution_count": null,
   "metadata": {
    "_kg_hide-input": true
   },
   "outputs": [],
   "source": [
    "#Total number of records\n",
    "dataset_mcq.shape"
   ]
  },
  {
   "cell_type": "markdown",
   "metadata": {},
   "source": [
    "# How Gender is playing a role"
   ]
  },
  {
   "cell_type": "markdown",
   "metadata": {},
   "source": [
    "The very first thing I am intrested is how Gender is playing role in Data Science and Machine Learning fields and how geography is tied up with this.\n",
    "\n",
    "Let's see Gender ratio across the world"
   ]
  },
  {
   "cell_type": "code",
   "execution_count": null,
   "metadata": {
    "_kg_hide-input": true
   },
   "outputs": [],
   "source": [
    "#Gender wise distribution\n",
    "fig = go.Figure(data=[go.Pie(labels=dataset_mcq['What is your gender? - Selected Choice'],hole=.4)])\n",
    "fig.show()"
   ]
  },
  {
   "cell_type": "markdown",
   "metadata": {},
   "source": [
    "This is quite evident from above chart that survey particiaption was dominated by Males .\n",
    "\n",
    "Let's see what is the country wise distribution of respondants"
   ]
  },
  {
   "cell_type": "code",
   "execution_count": null,
   "metadata": {
    "_kg_hide-input": true
   },
   "outputs": [],
   "source": [
    "# Replacing the ambigious countries name with Standard names\n",
    "dataset_mcq['In which country do you currently reside?'].replace(\n",
    "                                                   {'United States of America':'USA',\n",
    "                                                    'Viet Nam':'Vietnam',\n",
    "                                                    \"People 's Republic of China\":'China',\n",
    "                                                    \"United Kingdom of Great Britain and Northern Ireland\":'UK',\n",
    "                                                    \"Hong Kong (S.A.R.)\":\"HongKong\"},inplace=True)\n",
    "# Replacing the long name in education level with abbrevations\n",
    "dataset_mcq['What is the highest level of formal education that you have attained or plan to attain within the next 2 years?'].replace(\n",
    "                                                   {\"Some college/university study without earning a bachelor’s degree\":'Some Education'},inplace=True)\n"
   ]
  },
  {
   "cell_type": "code",
   "execution_count": null,
   "metadata": {
    "_kg_hide-input": true
   },
   "outputs": [],
   "source": [
    "#Country wise distribution of Respondant\n",
    "country_dist=dataset_mcq['In which country do you currently reside?'].value_counts()\n",
    "fig = px.choropleth(country_dist.values, #Input DataFrame\n",
    "                    locations=country_dist.index, #DataFrame column with locations\n",
    "                    locationmode='country names', # DataFrame column with color values\n",
    "                    color=country_dist.values, # Set to plot\n",
    "                    color_continuous_scale=\"haline\")\n",
    "fig.update_layout(title=\"Countrywise Distribution of Respondant\")\n",
    "fig.show()"
   ]
  },
  {
   "cell_type": "markdown",
   "metadata": {},
   "source": [
    "* USA and India are the leading countries\n",
    "* China, Brazil, Japan, Russia, Canada, UK and France have a significant amount of respondant\n",
    "\n",
    "To get more specific share of respondants , let's get a chart for country wise share"
   ]
  },
  {
   "cell_type": "code",
   "execution_count": null,
   "metadata": {
    "_kg_hide-input": true
   },
   "outputs": [],
   "source": [
    "#Country wise distribution\n",
    "fig = go.Figure(data=[go.Pie(labels=dataset_mcq['In which country do you currently reside?'],hole=.3)])\n",
    "fig.show()"
   ]
  },
  {
   "cell_type": "markdown",
   "metadata": {},
   "source": [
    ">> This is a surprise for me , I always thought that US should be leading in terms of 'Number of people in Data Science field' but looks like that scenario is changing and Indians are leading in that terms . \n",
    "\n",
    ">> There could be another dimension to this : **As respondant's are Kaggler's which is one of the famous platform for learning Data Science, we can say that there are more learners in Indians as compare to US**. Well, we have to analyze further to get more clear picture"
   ]
  },
  {
   "cell_type": "markdown",
   "metadata": {},
   "source": [
    "Let's take out male and female respondent seprately and dig more with top 10 countries with respondent"
   ]
  },
  {
   "cell_type": "code",
   "execution_count": null,
   "metadata": {
    "_kg_hide-input": true
   },
   "outputs": [],
   "source": [
    "#Taking male and female count seprately\n",
    "male_count=dataset_mcq[dataset_mcq['What is your gender? - Selected Choice'] == 'Male']\n",
    "female_count=dataset_mcq[dataset_mcq['What is your gender? - Selected Choice'] == 'Female']\n",
    "\n",
    "# Top-10 Countries with Respondents \n",
    "male_count_top10=male_count['In which country do you currently reside?'].value_counts()[:10].reset_index()\n",
    "female_count_top10=female_count['In which country do you currently reside?'].value_counts()[:10].reset_index()\n",
    "\n",
    "# Pie chart to depict male and female respondant country wise\n",
    "pieMen=go.Figure(data=[go.Pie(labels=male_count_top10['index'],values=male_count_top10['In which country do you currently reside?'],name=\"Men\",hole=.3)])\n",
    "pieWomen=go.Figure(data=[go.Pie(labels=female_count_top10['index'],values=female_count_top10['In which country do you currently reside?'],name=\"Women\",hole=.3)])"
   ]
  },
  {
   "cell_type": "markdown",
   "metadata": {},
   "source": [
    "**Male respondant distribution across top 10 countries are**"
   ]
  },
  {
   "cell_type": "code",
   "execution_count": null,
   "metadata": {
    "_kg_hide-input": true
   },
   "outputs": [],
   "source": [
    "pieMen.show()"
   ]
  },
  {
   "cell_type": "markdown",
   "metadata": {},
   "source": [
    "**Female respondant's distribution across top 10 countries are**"
   ]
  },
  {
   "cell_type": "code",
   "execution_count": null,
   "metadata": {
    "_kg_hide-input": true
   },
   "outputs": [],
   "source": [
    "pieWomen.show()"
   ]
  },
  {
   "cell_type": "markdown",
   "metadata": {},
   "source": [
    "** 📌 Take Away points  **\n",
    "\n",
    "* Data Science and Machine Learning are dominated by Male techies , infact male techies are five times more than female techies\n",
    "* Indians techies are above any other countries on spending their resources and time in learning DS and ML, in fact Indians are more in numbers then USA\n",
    "* Indians female techies are also ahead of their contemporaries in world , however female techie's participation is very less\n",
    "* Apart from India and USA other countries has very less participation"
   ]
  },
  {
   "cell_type": "markdown",
   "metadata": {},
   "source": [
    "# How Education level is linked with Gender"
   ]
  },
  {
   "cell_type": "markdown",
   "metadata": {},
   "source": [
    "Next thing I want to explore is respondant education level and how it can be varies between male and female\n",
    "\n",
    "We will see gender wise respondant's education level across the world"
   ]
  },
  {
   "cell_type": "code",
   "execution_count": null,
   "metadata": {
    "_kg_hide-input": true
   },
   "outputs": [],
   "source": [
    "# Respondant's GenderWise Education level\n",
    "male_educationlevel=male_count['What is the highest level of formal education that you have attained or plan to attain within the next 2 years?'].value_counts().reset_index()\n",
    "female_educationlevel=female_count['What is the highest level of formal education that you have attained or plan to attain within the next 2 years?'].value_counts().reset_index()\n",
    "\n",
    "# Pie chart to depict male and female respondant country wise\n",
    "pieMenEducation=go.Figure(data=[go.Pie(labels=male_educationlevel['index'],values=male_educationlevel['What is the highest level of formal education that you have attained or plan to attain within the next 2 years?'],name=\"Men\",hole=.3)])\n",
    "pieWomenEducation=go.Figure(data=[go.Pie(labels=female_educationlevel['index'],values=female_educationlevel['What is the highest level of formal education that you have attained or plan to attain within the next 2 years?'],name=\"Women\",hole=.3)])\n"
   ]
  },
  {
   "cell_type": "markdown",
   "metadata": {},
   "source": [
    "**Male respondant's education level**"
   ]
  },
  {
   "cell_type": "code",
   "execution_count": null,
   "metadata": {
    "_kg_hide-input": true
   },
   "outputs": [],
   "source": [
    "pieMenEducation.show()"
   ]
  },
  {
   "cell_type": "markdown",
   "metadata": {},
   "source": [
    "**Female respondant's education level**"
   ]
  },
  {
   "cell_type": "code",
   "execution_count": null,
   "metadata": {
    "_kg_hide-input": true
   },
   "outputs": [],
   "source": [
    "pieWomenEducation.show()"
   ]
  },
  {
   "cell_type": "markdown",
   "metadata": {},
   "source": [
    "Individaully number looks good for Women , but our initial analysis say that Men's are dominanting here.To clarify more on this let's compare"
   ]
  },
  {
   "cell_type": "code",
   "execution_count": null,
   "metadata": {
    "_kg_hide-input": true
   },
   "outputs": [],
   "source": [
    "# Add a gender colum to male and female education level data frames \n",
    "male_educationlevel=male_educationlevel.assign(Gender = ['Male', 'Male', 'Male', 'Male','Male','Male','Male']) \n",
    "female_educationlevel=female_educationlevel.assign(Gender = ['Female', 'Female', 'Female', 'Female','Female','Female','Female']) \n",
    "#Concat both data frame to generate comparision graph\n",
    "frames1 = [male_educationlevel, female_educationlevel]\n",
    "result1 = pd.concat(frames1)\n",
    "result1 = result1.rename(columns = {\"index\": \"Education Level\", \n",
    "                                  \"What is the highest level of formal education that you have attained or plan to attain within the next 2 years?\":\"Count\"}) \n",
    "#Bar graph to compare Education level for both genders\n",
    "fig = px.bar(result1, x='Education Level', y='Count',color='Gender')\n",
    "fig.show()"
   ]
  },
  {
   "cell_type": "markdown",
   "metadata": {},
   "source": [
    "Well, this proves our initial analysis that men's are dominanting this field.\n",
    "\n",
    "Let's see what are Indian's edcuation level when it comes to Data Science and Machine Learning."
   ]
  },
  {
   "cell_type": "code",
   "execution_count": null,
   "metadata": {
    "_kg_hide-input": true
   },
   "outputs": [],
   "source": [
    "#Indian Male/Female techie's \n",
    "male_count_india=male_count[male_count['In which country do you currently reside?'] == 'India']\n",
    "female_count_india=female_count[female_count['In which country do you currently reside?'] == 'India']\n",
    "\n",
    "indian_male_educationlevel=male_count_india['What is the highest level of formal education that you have attained or plan to attain within the next 2 years?'].value_counts().reset_index()\n",
    "indian_female_educationlevel=female_count_india['What is the highest level of formal education that you have attained or plan to attain within the next 2 years?'].value_counts().reset_index()\n",
    "\n",
    "# Pie chart to depict Indian male and female respondant's\n",
    "pieIndianMenEducation=go.Figure(data=[go.Pie(labels=indian_male_educationlevel['index'],values=indian_male_educationlevel['What is the highest level of formal education that you have attained or plan to attain within the next 2 years?'],name=\"Men\",hole=.3)])\n",
    "pieIndianWomenEducation=go.Figure(data=[go.Pie(labels=indian_female_educationlevel['index'],values=indian_female_educationlevel['What is the highest level of formal education that you have attained or plan to attain within the next 2 years?'],name=\"Women\",hole=.3)])"
   ]
  },
  {
   "cell_type": "markdown",
   "metadata": {},
   "source": [
    "**Indian Male respondant's education level**"
   ]
  },
  {
   "cell_type": "code",
   "execution_count": null,
   "metadata": {
    "_kg_hide-input": true
   },
   "outputs": [],
   "source": [
    "pieIndianMenEducation.show()"
   ]
  },
  {
   "cell_type": "markdown",
   "metadata": {},
   "source": [
    "**Indian Female respondant's education level**"
   ]
  },
  {
   "cell_type": "code",
   "execution_count": null,
   "metadata": {
    "_kg_hide-input": true
   },
   "outputs": [],
   "source": [
    "pieIndianWomenEducation.show()"
   ]
  },
  {
   "cell_type": "markdown",
   "metadata": {},
   "source": [
    "Now , let's compare both of them"
   ]
  },
  {
   "cell_type": "code",
   "execution_count": null,
   "metadata": {
    "_kg_hide-input": true
   },
   "outputs": [],
   "source": [
    "# Add a gender colum to male and female education level data frames \n",
    "indian_male_educationlevel=indian_male_educationlevel.assign(Gender = ['Male', 'Male', 'Male', 'Male','Male','Male','Male']) \n",
    "indian_female_educationlevel=indian_female_educationlevel.assign(Gender = ['Female', 'Female', 'Female', 'Female','Female','Female','Female']) \n",
    "#Concat both data frame to generate comparision graph\n",
    "frames2 = [indian_male_educationlevel, indian_female_educationlevel]\n",
    "result2 = pd.concat(frames2)\n",
    "result2 = result2.rename(columns = {\"index\": \"Education Level\", \n",
    "                                  \"What is the highest level of formal education that you have attained or plan to attain within the next 2 years?\":\"Count\"}) \n",
    "#Bar graph to compare Education level for both genders\n",
    "fig = px.bar(result2, x='Education Level', y='Count',color='Gender')\n",
    "fig.show()"
   ]
  },
  {
   "cell_type": "markdown",
   "metadata": {},
   "source": [
    "Women's percentage are more than men who are either enrolled or completed Doctoral/Master's/Professional Degree.\n",
    "\n",
    "For almost half of the respondant Master's degree is choice of education ,** so who looking for carrer in DS/ML field Master's degree can be their choice.**\n",
    "\n",
    "There are few more points which are evident here , let's look at them"
   ]
  },
  {
   "cell_type": "markdown",
   "metadata": {},
   "source": [
    "** 📌 Take Away points  **\n",
    "\n",
    "* Master's degree is favorite among Female respondent and Bachelor's degree is choice of education for Male , this trend is **slgihtly** **different** from rest of the world where Master's degree is famous among men and women\n",
    "* Globally women's enrollment/completion is slightly more than Men in Master's degree this trend is similar in India \n",
    "* Globally men's enrollment/completion is more in Bachelor's degree and again this is the same case in India \n",
    "* Women's enrollment is more in Doctorate Program as compare to Men , and trend is same in India also \n",
    "\n",
    " >>  <a>In Data science and Machine learning field women's representation is less but their inclination towards Higher education is more as compare to men</a>"
   ]
  },
  {
   "cell_type": "markdown",
   "metadata": {},
   "source": [
    "# How Education level playing a role in Job Title and Salary"
   ]
  },
  {
   "cell_type": "markdown",
   "metadata": {},
   "source": [
    "Now , I am intrested to know how respondant's education level are playing a role in their salaries and job titles. \n",
    "\n",
    "Let's start at global level.First we will see how Salaries are related with Job Titles and to start with this let's find out about most common Job Title"
   ]
  },
  {
   "cell_type": "code",
   "execution_count": null,
   "metadata": {
    "_kg_hide-input": true,
    "_kg_hide-output": false
   },
   "outputs": [],
   "source": [
    "#Taking out job role and Education level to another data frame for visualization\n",
    "dataset_salary_jobrole=dataset_mcq[['What is the highest level of formal education that you have attained or plan to attain within the next 2 years?','Select the title most similar to your current role (or most recent title if retired): - Selected Choice','What is your current yearly compensation (approximate $USD)?','What is your gender? - Selected Choice']]\n",
    "dataset_salary_jobrole=dataset_salary_jobrole.rename(columns = {'What is the highest level of formal education that you have attained or plan to attain within the next 2 years?':'EducationLevel','Select the title most similar to your current role (or most recent title if retired): - Selected Choice':'JobTitle','What is your current yearly compensation (approximate $USD)?':'Salary','What is your gender? - Selected Choice':'Gender'})\n",
    "\n",
    "#Different Job roles counts\n",
    "dataset_salary_jobrole['JobTitle'].value_counts().plot.bar()"
   ]
  },
  {
   "cell_type": "markdown",
   "metadata": {},
   "source": [
    "As they said **Data Scientist is the sexiest job of the century** well above graph proves this. Another thing comes up with this , number of **Student** is matching with Data Scientist , this proves that Kaggle is one of the primary resource of learning Data Science and Machine Learning for Students.\n",
    "\n",
    "\n",
    "According to my experience in Kaggle also , good number of Kernels/Discussion/Competition are participated/completed by students.\n",
    "\n",
    "After this let's explore relation between Job Role and Education level"
   ]
  },
  {
   "cell_type": "code",
   "execution_count": null,
   "metadata": {
    "_kg_hide-input": true
   },
   "outputs": [],
   "source": [
    "#Visualize the Job Role and Education level\n",
    "fig = px.scatter(dataset_salary_jobrole,x='JobTitle',y='Salary',hover_data=['EducationLevel'])\n",
    "fig.show()\n"
   ]
  },
  {
   "cell_type": "markdown",
   "metadata": {},
   "source": [
    "This is a pretty straight forward graph which will tell us about education level (*on hovering*) for particular job title along with corresponding salary range. \n",
    "\n",
    "As per my understanding , out of all available job titles <a>Data Scientist/Statistician/Data Analyst</a> are roles where person is directly dealing/involved in Data Science and Machine Learning field and on looking at their data it's quite evident that person with Higher Salary range in these roles must have enrolled/completed Doctoral or Master's Degree\n",
    "\n",
    ">> <a>In Data Science and Machine Learning field if you want to be in higher salary bracket then earn either Doctoral or Master's degree  </a>\n",
    "\n",
    "\n",
    "After this let's see how 'Gender' ,'Education Level' and 'Job Title' are related to each other\n"
   ]
  },
  {
   "cell_type": "code",
   "execution_count": null,
   "metadata": {
    "_kg_hide-input": true
   },
   "outputs": [],
   "source": [
    "#Parallel Category graph to compare all three categories\n",
    "fig=px.parallel_categories(dataset_salary_jobrole)\n",
    "fig.show()"
   ]
  },
  {
   "cell_type": "markdown",
   "metadata": {},
   "source": [
    "Don't get overwhelmed with this graph :) . I know it's little tricky but all I am only trying to link EducationLevel/JobTitle/Gender cateogries here.\n",
    "\n",
    "If you hover on ribbon connecting 'Master's' and 'Data Scientist' you will come to know the count ,which means there are **1788** number of **Males** with **Master's Degree** working as **Data Scientist**. In other word *width* of the ribbon will tell you the relationship among all cateogries\n",
    "\n",
    "This shows that majority of Data scientist are holding either Master's or Doctoral degree and Male Data Scientist numbers are more with Master's and Bachelor's degree while Female Data scientist numbers are more with Doctoral and Master's Degree.\n",
    "\n",
    "Now, let's check this trend in India\n",
    "\n",
    "First start with count for different Job title"
   ]
  },
  {
   "cell_type": "code",
   "execution_count": null,
   "metadata": {
    "_kg_hide-input": true
   },
   "outputs": [],
   "source": [
    "#Taking out data entries related to India\n",
    "dataset_salary_jobrole_india=dataset_mcq[dataset_mcq['In which country do you currently reside?'] == 'India']\n",
    "#Keeping only relevant columns\n",
    "dataset_salary_jobrole_india=dataset_salary_jobrole_india[['What is the highest level of formal education that you have attained or plan to attain within the next 2 years?','Select the title most similar to your current role (or most recent title if retired): - Selected Choice','What is your current yearly compensation (approximate $USD)?','What is your gender? - Selected Choice']]\n",
    "#Replacing column name to short and relevant name\n",
    "dataset_salary_jobrole_india=dataset_salary_jobrole_india.rename(columns = {'What is the highest level of formal education that you have attained or plan to attain within the next 2 years?':'EducationLevel','Select the title most similar to your current role (or most recent title if retired): - Selected Choice':'JobTitle','What is your current yearly compensation (approximate $USD)?':'Salary','What is your gender? - Selected Choice':'Gender'})\n",
    "#Different Job roles counts\n",
    "dataset_salary_jobrole_india['JobTitle'].value_counts().plot.bar()"
   ]
  },
  {
   "cell_type": "markdown",
   "metadata": {},
   "source": [
    "In India majority of Kagglers are student which are just double the number of Data Scientist , this is very different from rest of the world trend. \n",
    "\n",
    "Also 'Statistician' and 'Data Analyst' are not much in numbers as compare to rest of the world.\n",
    "\n",
    "Let's see how Job Role and Education level are related in India."
   ]
  },
  {
   "cell_type": "code",
   "execution_count": null,
   "metadata": {
    "_kg_hide-input": true
   },
   "outputs": [],
   "source": [
    "#Visualize the Job Role and Education level\n",
    "fig = px.scatter(dataset_salary_jobrole_india,x='JobTitle',y='Salary',hover_data=['EducationLevel'])\n",
    "fig.show()"
   ]
  },
  {
   "cell_type": "markdown",
   "metadata": {},
   "source": [
    "Looks like in India Data Scientist with higher salary range is holding Bachelor's Degree and not Master's or Doctoral , this scenario is quite different from rest of the world. \n",
    "\n",
    "Also, here Statistician is not even in higher salary range which is again different from rest of the world.\n",
    "\n",
    "Let's see how 'Gender' ,'Education Level' and 'Job Title' are related to each other"
   ]
  },
  {
   "cell_type": "code",
   "execution_count": null,
   "metadata": {
    "_kg_hide-input": true
   },
   "outputs": [],
   "source": [
    "#Parallel Category graph to compare all three categories\n",
    "fig=px.parallel_categories(dataset_salary_jobrole_india)\n",
    "fig.show()"
   ]
  },
  {
   "cell_type": "markdown",
   "metadata": {},
   "source": [
    "Majority of Data Scientist in India are Males with Bachelor's Degree and very less number of Data Scientist are female.\n",
    "\n",
    "Out of female data scientist , most of them holding Master's degree"
   ]
  },
  {
   "cell_type": "markdown",
   "metadata": {},
   "source": [
    "** 📌 Take Away points  **\n",
    "\n",
    "* Across the world majority of respondents are Data scientist but in India majority of them are Students , which means Kaggle is quiet popular among students in India while in other parts of the world more number of professionals are into Kaggle\n",
    "*  To be in higher salary bracket either Doctoral or Master's degree is required , but in India people with Bachelor's Degree are also in higher salary bracket\n",
    "* Globally majority of Data Scientist are holding Master's or Doctoral degree but in India majority of them are holding Bachelor's degree\n",
    "* Globally Statistician and Data Analyst are also in Higher salary range but this is not the case with India\n",
    "\n",
    ">> <a>In India Data Scientist have not completed their Master's or Doctoral degree before turning into Job , most likely they have started their journey right after their Bachelor's degree . Also , higher salary is not linked with higher education which is not the case with remaining world where higher salary is directly linked with higher education</a>\n",
    "\n",
    "**Open question:** : *Highest Salary range is '>500,000 USD' which is pretty high as compare to Indian salary standards so i am not sure if any record with this value is correct data or not.*"
   ]
  },
  {
   "cell_type": "markdown",
   "metadata": {},
   "source": [
    "# Which Age group Is Earning More "
   ]
  },
  {
   "cell_type": "markdown",
   "metadata": {},
   "source": [
    "Now , let's see how different age groups are performing in Data Science field.\n",
    "\n",
    "First let's check which Age group has more number of participants at global level"
   ]
  },
  {
   "cell_type": "code",
   "execution_count": null,
   "metadata": {
    "_kg_hide-input": true
   },
   "outputs": [],
   "source": [
    "#Taking out job role and and age to another data frame for visualization\n",
    "dataset_age_jobrole=dataset_mcq[['What is your age (# years)?','Select the title most similar to your current role (or most recent title if retired): - Selected Choice','What is your current yearly compensation (approximate $USD)?','What is your gender? - Selected Choice']]\n",
    "dataset_age_jobrole=dataset_age_jobrole.rename(columns = {'What is your age (# years)?':'AgeGroup','Select the title most similar to your current role (or most recent title if retired): - Selected Choice':'JobTitle','What is your current yearly compensation (approximate $USD)?':'Salary','What is your gender? - Selected Choice':'Gender'})\n",
    "#Different Job roles counts\n",
    "dataset_age_jobrole['AgeGroup'].value_counts().plot.bar()"
   ]
  },
  {
   "cell_type": "markdown",
   "metadata": {},
   "source": [
    "It's clear that '25-29' years old have majority and followed by '22-24' and '30-34' . Well this is a  young age group and this may be because Data Science is still in early stage and lot of buzz around this attracts young talent.\n",
    "\n",
    "Let's check Age group and Salary relation\n"
   ]
  },
  {
   "cell_type": "code",
   "execution_count": null,
   "metadata": {
    "_kg_hide-input": true
   },
   "outputs": [],
   "source": [
    "#Visualize the Age Group and Salary\n",
    "fig = px.scatter(dataset_age_jobrole,x='AgeGroup',y='Salary',hover_data=['JobTitle'])\n",
    "fig.show()"
   ]
  },
  {
   "cell_type": "markdown",
   "metadata": {},
   "source": [
    "If we hover on '22-24' or'25-29' and '>$500,000' or '300,00 -500,000'  then we can see the 'JobTitle' as *Data Analyst/Statisticians/Data Scientist* \n",
    "\n",
    ">> <a>Globally , people from young age group like 22-29 who are working in Data Science field are in higher salary range </a>\n",
    "\n",
    "\n",
    "Let's check relation between 'AgeGroup' 'JobTitle' and 'Gender'"
   ]
  },
  {
   "cell_type": "code",
   "execution_count": null,
   "metadata": {
    "_kg_hide-input": true
   },
   "outputs": [],
   "source": [
    "#Parallel Category graph to compare all three categories\n",
    "fig=px.parallel_categories(dataset_age_jobrole)\n",
    "fig.show()"
   ]
  },
  {
   "cell_type": "markdown",
   "metadata": {},
   "source": [
    "There are more number of males as compare to female in age group of '22-29' who are working as *Data Analyst/Statisticians/Data Scientist* . Well , this gender gap was quite evident from our previous analysis also.\n",
    "\n",
    "Let' check how Indians are doing in this age group . First start with which Age group has more number of participants."
   ]
  },
  {
   "cell_type": "code",
   "execution_count": null,
   "metadata": {
    "_kg_hide-input": true
   },
   "outputs": [],
   "source": [
    "#Taking out data entries related to India\n",
    "dataset_age_jobrole_india=dataset_mcq[dataset_mcq['In which country do you currently reside?'] == 'India']\n",
    "#Keeping only relevant columns\n",
    "dataset_age_jobrole_india=dataset_age_jobrole_india[['What is your age (# years)?','Select the title most similar to your current role (or most recent title if retired): - Selected Choice','What is your current yearly compensation (approximate $USD)?','What is your gender? - Selected Choice']]\n",
    "#Replacing column name to short and relevant name\n",
    "dataset_age_jobrole_india=dataset_age_jobrole_india.rename(columns = {'What is your age (# years)?':'AgeGroup','Select the title most similar to your current role (or most recent title if retired): - Selected Choice':'JobTitle','What is your current yearly compensation (approximate $USD)?':'Salary','What is your gender? - Selected Choice':'Gender'})\n",
    "#Different Job roles counts\n",
    "dataset_age_jobrole_india['AgeGroup'].value_counts().plot.bar()"
   ]
  },
  {
   "cell_type": "markdown",
   "metadata": {},
   "source": [
    "**As mentioned , in India majority of respondants/kaggler's are student and that's the reason they are falling under '18-21' age group.\n",
    "\n",
    "Other age group followed by '18-21' are '22-29' which is similar to global trend. Let's check Age group and Salary relation\n"
   ]
  },
  {
   "cell_type": "code",
   "execution_count": null,
   "metadata": {
    "_kg_hide-input": true
   },
   "outputs": [],
   "source": [
    "#Visualize the Age Group and Salary\n",
    "fig = px.scatter(dataset_age_jobrole_india,x='AgeGroup',y='Salary',hover_data=['JobTitle'])\n",
    "fig.show()"
   ]
  },
  {
   "cell_type": "markdown",
   "metadata": {},
   "source": [
    "On hovering we can find out that in India out of young age group ('22-29') only '25-29' group falls under cateogory of people working as Data Scientist with higher salary range.\n",
    "\n"
   ]
  },
  {
   "cell_type": "code",
   "execution_count": null,
   "metadata": {
    "_kg_hide-input": true
   },
   "outputs": [],
   "source": [
    "#Parallel Category graph to compare all three categories\n",
    "fig=px.parallel_categories(dataset_age_jobrole_india)\n",
    "fig.show()"
   ]
  },
  {
   "cell_type": "markdown",
   "metadata": {},
   "source": [
    "Another intresting thing to notice here is , unlike global trend only 'Data Scientist' job title is coming in young higher earner category and not much numbers from other job titles like 'Statisticians' and 'Data Analyst' are coming up  . \n",
    "\n",
    "If we link this with our previous analysis  then it could be possible that : <a> As Indian Data Scientist are not much intrested in Master's/Doctoral degree they may be missing tradiotional Statistical/Mathematics education , that might be the reason we are not seeing much 'Statisticians' Job title in young age group</a>\n",
    "\n",
    ">>Food for thought : <b>Is it valid to say that \"Indian Data Scientist are lacking in Statistical and mathematical skills which is the basic skill required in Data Science and Machine Learning Field\"?</b>"
   ]
  },
  {
   "cell_type": "markdown",
   "metadata": {},
   "source": [
    "** 📌 Take Away points  **\n",
    "\n",
    "* Data Science young workforce which belongs to age group of '22-29' are in higher salary range , In India this trend starts little late at '25-29'\n",
    "* India has majority of student share in Kaggle\n",
    "* India has less number of Statisticians and Data Analyst as compare to Data Scientist \n",
    "* On looking at the data it's quite possible that Indian Data Scientist are lacking in Statistical and mathematical skills"
   ]
  },
  {
   "cell_type": "markdown",
   "metadata": {},
   "source": [
    "# Which Learning Media and Online Courses are famous"
   ]
  },
  {
   "cell_type": "markdown",
   "metadata": {},
   "source": [
    "In the age of Social media and Internet we are highly dependent on online resources to gain knowledge , let's see how different social platform are contributing in Data Science field globally\n"
   ]
  },
  {
   "cell_type": "code",
   "execution_count": null,
   "metadata": {
    "_kg_hide-input": true
   },
   "outputs": [],
   "source": [
    "#Take out Online resources seprately and put in Data Dictonary\n",
    "mediasource_count_dict = {\n",
    "    'Twitter' : (dataset_mcq['Who/what are your favorite media sources that report on data science topics? (Select all that apply) - Selected Choice - Twitter (data science influencers)'].value_counts().values[0]),\n",
    "    'Hacker': (dataset_mcq['Who/what are your favorite media sources that report on data science topics? (Select all that apply) - Selected Choice - Hacker News (https://news.ycombinator.com/)'].value_counts().values[0]),\n",
    "    'Reddit' : (dataset_mcq['Who/what are your favorite media sources that report on data science topics? (Select all that apply) - Selected Choice - Reddit (r/machinelearning, r/datascience, etc)'].value_counts().values[0]),\n",
    "    'Kaggle' : (dataset_mcq['Who/what are your favorite media sources that report on data science topics? (Select all that apply) - Selected Choice - Kaggle (forums, blog, social media, etc)'].value_counts().values[0]),\n",
    "    'Course Forums' : (dataset_mcq['Who/what are your favorite media sources that report on data science topics? (Select all that apply) - Selected Choice - Course Forums (forums.fast.ai, etc)'].value_counts().values[0]),\n",
    "    'YouTube' : (dataset_mcq['Who/what are your favorite media sources that report on data science topics? (Select all that apply) - Selected Choice - YouTube (Cloud AI Adventures, Siraj Raval, etc)'].value_counts().values[0]),\n",
    "    'Podcasts' : (dataset_mcq['Who/what are your favorite media sources that report on data science topics? (Select all that apply) - Selected Choice - Podcasts (Chai Time Data Science, Linear Digressions, etc)'].value_counts().values[0]),\n",
    "    'Blogs' : (dataset_mcq['Who/what are your favorite media sources that report on data science topics? (Select all that apply) - Selected Choice - Blogs (Towards Data Science, Medium, Analytics Vidhya, KDnuggets etc)'].value_counts().values[0]),\n",
    "    'Journal Publications' : (dataset_mcq['Who/what are your favorite media sources that report on data science topics? (Select all that apply) - Selected Choice - Journal Publications (traditional publications, preprint journals, etc)'].value_counts().values[0]),\n",
    "    'Slack Communities' : (dataset_mcq['Who/what are your favorite media sources that report on data science topics? (Select all that apply) - Selected Choice - Slack Communities (ods.ai, kagglenoobs, etc)'].value_counts().values[0])\n",
    "            }\n",
    "#Convert Data dictonary to series\n",
    "mediasource_series=pd.Series(mediasource_count_dict)\n",
    "#Visualizing media source\n",
    "fig = px.bar(mediasource_series, x=mediasource_series.values, y=mediasource_series.index,orientation='h')\n",
    "fig.show()"
   ]
  },
  {
   "cell_type": "markdown",
   "metadata": {},
   "source": [
    "It's evident that **Kaggle** is the winner in terms of media sources used for learning followed by **Blogs**(Towards Data Science, Medium, Analytics Vidhya, KDnuggets etc) and then **You Tube Channel** (Cloud AI Adventures, Siraj Raval,etc).\n",
    "\n",
    "This makes sense because Kaggle provides a platform where you can particpate and network with other people , learn from other people's work and test/enhance your skills , where as blogs  like 'Towards Data Science, Medium' provides quality of reading material on specific topics of Data Science.\n",
    "\n",
    "Now , let's check how online courses platform are performing"
   ]
  },
  {
   "cell_type": "code",
   "execution_count": null,
   "metadata": {
    "_kg_hide-input": true
   },
   "outputs": [],
   "source": [
    "#Take out Online resources seprately and put in Data Dictonary\n",
    "onlinecourses_dict = {\n",
    "    'Udacity' : (dataset_mcq['On which platforms have you begun or completed data science courses? (Select all that apply) - Selected Choice - Udacity'].value_counts().values[0]),\n",
    "    'Coursera': (dataset_mcq['On which platforms have you begun or completed data science courses? (Select all that apply) - Selected Choice - Coursera'].value_counts().values[0]),\n",
    "    'edX' : (dataset_mcq['On which platforms have you begun or completed data science courses? (Select all that apply) - Selected Choice - edX'].value_counts().values[0]),\n",
    "    'DataCamp' : (dataset_mcq['On which platforms have you begun or completed data science courses? (Select all that apply) - Selected Choice - DataCamp'].value_counts().values[0]),\n",
    "    'DataQuest' : (dataset_mcq['On which platforms have you begun or completed data science courses? (Select all that apply) - Selected Choice - DataQuest'].value_counts().values[0]),\n",
    "    'Kaggle Course' : (dataset_mcq['On which platforms have you begun or completed data science courses? (Select all that apply) - Selected Choice - Kaggle Courses (i.e. Kaggle Learn)'].value_counts().values[0]),\n",
    "    'Fast.ai' : (dataset_mcq['On which platforms have you begun or completed data science courses? (Select all that apply) - Selected Choice - Fast.ai'].value_counts().values[0]),\n",
    "    'Udemy' : (dataset_mcq['On which platforms have you begun or completed data science courses? (Select all that apply) - Selected Choice - Udemy'].value_counts().values[0]),\n",
    "    'LinkedIn Learning' : (dataset_mcq['On which platforms have you begun or completed data science courses? (Select all that apply) - Selected Choice - LinkedIn Learning'].value_counts().values[0]),\n",
    "    'University Course' : (dataset_mcq['On which platforms have you begun or completed data science courses? (Select all that apply) - Selected Choice - University Courses (resulting in a university degree)'].value_counts().values[0])\n",
    "}\n",
    "#Convert Data dictonary to series\n",
    "onlinecourses_series=pd.Series(onlinecourses_dict)\n",
    "#Visualizing onlinecourses series\n",
    "fig = px.bar(onlinecourses_series, x=onlinecourses_series.values, y=onlinecourses_series.index,orientation='h')\n",
    "fig.show()"
   ]
  },
  {
   "cell_type": "markdown",
   "metadata": {},
   "source": [
    "Well '**Coursera**' is  leading by a huge margin as compared to other online courses may be because of Andrew Ngs Machine Learning and Deep Learning Fundamental courses , '**Kaggle**' is at the second place may be becuase they offer smalll,precise and practical courses.\n",
    "\n",
    "Let's do this analysis for **India** , first we will see how's Indian's inclination towards different media sources"
   ]
  },
  {
   "cell_type": "code",
   "execution_count": null,
   "metadata": {
    "_kg_hide-input": true
   },
   "outputs": [],
   "source": [
    "#Taking out India's participants\n",
    "dataset_mcq_india=dataset_mcq[dataset_mcq['In which country do you currently reside?'] == 'India']\n",
    "#Take out Online resources seprately and put in Data Dictonary\n",
    "mediasource_count_dict_india = {\n",
    "    'Twitter' : (dataset_mcq_india['Who/what are your favorite media sources that report on data science topics? (Select all that apply) - Selected Choice - Twitter (data science influencers)'].value_counts().values[0]),\n",
    "    'Hacker': (dataset_mcq_india['Who/what are your favorite media sources that report on data science topics? (Select all that apply) - Selected Choice - Hacker News (https://news.ycombinator.com/)'].value_counts().values[0]),\n",
    "    'Reddit' : (dataset_mcq_india['Who/what are your favorite media sources that report on data science topics? (Select all that apply) - Selected Choice - Reddit (r/machinelearning, r/datascience, etc)'].value_counts().values[0]),\n",
    "    'Kaggle' : (dataset_mcq_india['Who/what are your favorite media sources that report on data science topics? (Select all that apply) - Selected Choice - Kaggle (forums, blog, social media, etc)'].value_counts().values[0]),\n",
    "    'Course Forums' : (dataset_mcq_india['Who/what are your favorite media sources that report on data science topics? (Select all that apply) - Selected Choice - Course Forums (forums.fast.ai, etc)'].value_counts().values[0]),\n",
    "    'YouTube' : (dataset_mcq_india['Who/what are your favorite media sources that report on data science topics? (Select all that apply) - Selected Choice - YouTube (Cloud AI Adventures, Siraj Raval, etc)'].value_counts().values[0]),\n",
    "    'Podcasts' : (dataset_mcq_india['Who/what are your favorite media sources that report on data science topics? (Select all that apply) - Selected Choice - Podcasts (Chai Time Data Science, Linear Digressions, etc)'].value_counts().values[0]),\n",
    "    'Blogs' : (dataset_mcq_india['Who/what are your favorite media sources that report on data science topics? (Select all that apply) - Selected Choice - Blogs (Towards Data Science, Medium, Analytics Vidhya, KDnuggets etc)'].value_counts().values[0]),\n",
    "    'Journal Publications' : (dataset_mcq_india['Who/what are your favorite media sources that report on data science topics? (Select all that apply) - Selected Choice - Journal Publications (traditional publications, preprint journals, etc)'].value_counts().values[0]),\n",
    "    'Slack Communities' : (dataset_mcq_india['Who/what are your favorite media sources that report on data science topics? (Select all that apply) - Selected Choice - Slack Communities (ods.ai, kagglenoobs, etc)'].value_counts().values[0])\n",
    "            }\n",
    "#Convert Data dictonary to series\n",
    "mediasource_series_india=pd.Series(mediasource_count_dict_india)\n",
    "#Visualizing media source\n",
    "fig = px.bar(mediasource_series_india, x=mediasource_series_india.values, y=mediasource_series_india.index,orientation='h')\n",
    "fig.show()"
   ]
  },
  {
   "cell_type": "markdown",
   "metadata": {},
   "source": [
    "This is similar to global trend , Kaggle is the winner followed by Blogs(Towards Data Science, Medium, Analytics Vidhya, KDnuggets etc) and then You Tube Channel (Cloud AI Adventures, Siraj Raval,etc) . \n",
    "\n",
    "Interestingly ,gap between 'You tube' and 'Blogs' is not that much in India as compare to global numbers which means Indians are giving preference to You tube more than their rest of the world contemporaries.\n",
    "\n",
    "Now,Indian's favorite online courses"
   ]
  },
  {
   "cell_type": "code",
   "execution_count": null,
   "metadata": {
    "_kg_hide-input": true
   },
   "outputs": [],
   "source": [
    "#Take out Online resources seprately and put in Data Dictonary\n",
    "onlinecourses_dict_india = {\n",
    "    'Udacity' : (dataset_mcq_india['On which platforms have you begun or completed data science courses? (Select all that apply) - Selected Choice - Udacity'].value_counts().values[0]),\n",
    "    'Coursera': (dataset_mcq_india['On which platforms have you begun or completed data science courses? (Select all that apply) - Selected Choice - Coursera'].value_counts().values[0]),\n",
    "    'edX' : (dataset_mcq_india['On which platforms have you begun or completed data science courses? (Select all that apply) - Selected Choice - edX'].value_counts().values[0]),\n",
    "    'DataCamp' : (dataset_mcq_india['On which platforms have you begun or completed data science courses? (Select all that apply) - Selected Choice - DataCamp'].value_counts().values[0]),\n",
    "    'DataQuest' : (dataset_mcq_india['On which platforms have you begun or completed data science courses? (Select all that apply) - Selected Choice - DataQuest'].value_counts().values[0]),\n",
    "    'Kaggle Course' : (dataset_mcq_india['On which platforms have you begun or completed data science courses? (Select all that apply) - Selected Choice - Kaggle Courses (i.e. Kaggle Learn)'].value_counts().values[0]),\n",
    "    'Fast.ai' : (dataset_mcq_india['On which platforms have you begun or completed data science courses? (Select all that apply) - Selected Choice - Fast.ai'].value_counts().values[0]),\n",
    "    'Udemy' : (dataset_mcq_india['On which platforms have you begun or completed data science courses? (Select all that apply) - Selected Choice - Udemy'].value_counts().values[0]),\n",
    "    'LinkedIn Learning' : (dataset_mcq_india['On which platforms have you begun or completed data science courses? (Select all that apply) - Selected Choice - LinkedIn Learning'].value_counts().values[0]),\n",
    "    'University Course' : (dataset_mcq_india['On which platforms have you begun or completed data science courses? (Select all that apply) - Selected Choice - University Courses (resulting in a university degree)'].value_counts().values[0])\n",
    "}\n",
    "#Convert Data dictonary to series\n",
    "onlinecourses_series_india=pd.Series(onlinecourses_dict_india)\n",
    "#Visualizing onlinecourses series\n",
    "fig = px.bar(onlinecourses_series_india, x=onlinecourses_series_india.values, y=onlinecourses_series_india.index,orientation='h')\n",
    "fig.show()"
   ]
  },
  {
   "cell_type": "markdown",
   "metadata": {},
   "source": [
    "In India also 'Coursera'  is most popular but 'Udemy' beat 'Kaggle' for second place , I guess reason behind 'Udemy' popularity is it's  cheap and beginner's friendly courses"
   ]
  },
  {
   "cell_type": "markdown",
   "metadata": {},
   "source": [
    "** 📌 Take Away points  **\n",
    " \n",
    "*  Kaggle is one of the popular learning medium across the world , followed by Blogs and You Tube channels.Indinas inclination towards You tube is more as comapre to their contemporaries\n",
    "*  Coursera is favorite online course portal accross the world , In India margin of Coursera popularity is less as compare to rest of the world\n",
    "*  In India Udemy is more popular as compare to Kaggle , may be becuase of it's pocket friendly courses\n",
    "  \n",
    " "
   ]
  },
  {
   "cell_type": "markdown",
   "metadata": {},
   "source": [
    "# Choice of Weapon: Programming Language and Visualization Libraries"
   ]
  },
  {
   "cell_type": "markdown",
   "metadata": {},
   "source": [
    "Any discussion about Data Science is incomplete without discussing about programming language. In this section we will explore Regular Usage/Recommended Programming languages and which is most preferable visualization libraries.\n",
    "\n",
    "Let's start with regular usuage programming language across the world"
   ]
  },
  {
   "cell_type": "code",
   "execution_count": null,
   "metadata": {
    "_kg_hide-input": true
   },
   "outputs": [],
   "source": [
    "#Take out programming language seprately and put in Data Dictonary\n",
    "programminglang_dict = {\n",
    " 'Python' : (dataset_mcq['What programming languages do you use on a regular basis? (Select all that apply) - Selected Choice - Python'].count()),\n",
    " 'R': (dataset_mcq['What programming languages do you use on a regular basis? (Select all that apply) - Selected Choice - R'].count()),\n",
    " 'SQL' : (dataset_mcq['What programming languages do you use on a regular basis? (Select all that apply) - Selected Choice - SQL'].count()),\n",
    " 'C' : (dataset_mcq['What programming languages do you use on a regular basis? (Select all that apply) - Selected Choice - C'].count()),\n",
    " 'C++' : (dataset_mcq['What programming languages do you use on a regular basis? (Select all that apply) - Selected Choice - C++'].count()),\n",
    " 'Java ' : (dataset_mcq['What programming languages do you use on a regular basis? (Select all that apply) - Selected Choice - Java'].count()),\n",
    " 'Javascript' : (dataset_mcq['What programming languages do you use on a regular basis? (Select all that apply) - Selected Choice - Javascript'].count()),\n",
    " 'Typescript' : (dataset_mcq['What programming languages do you use on a regular basis? (Select all that apply) - Selected Choice - TypeScript'].count()),\n",
    " 'Bash ' : (dataset_mcq['What programming languages do you use on a regular basis? (Select all that apply) - Selected Choice - Bash'].count()),\n",
    " 'MATLAB' : (dataset_mcq['What programming languages do you use on a regular basis? (Select all that apply) - Selected Choice - MATLAB'].count())\n",
    "}\n",
    "\n",
    "#Convert Data dictonary to series\n",
    "programminglang_series=pd.Series(programminglang_dict)\n",
    "#Visualizing frequently used programming language series\n",
    "fig = px.scatter(programminglang_series, y=programminglang_series.values, x=programminglang_series.index,size=programminglang_series.values)\n",
    "fig.show()\n",
    "\n"
   ]
  },
  {
   "cell_type": "markdown",
   "metadata": {},
   "source": [
    "For the obvious reasons **Python** is leading the game followed by **SQL** and **R** , let see what is the  recommended language for aspiring data scientist"
   ]
  },
  {
   "cell_type": "code",
   "execution_count": null,
   "metadata": {
    "_kg_hide-input": true
   },
   "outputs": [],
   "source": [
    "#Taking out recomemded language in a series\n",
    "recommendedlang_series = dataset_mcq['What programming language would you recommend an aspiring data scientist to learn first? - Selected Choice'].value_counts()\n",
    "#Visualizing recommended programming language series\n",
    "fig = px.scatter(recommendedlang_series, y=recommendedlang_series.values, x=recommendedlang_series.index,size=recommendedlang_series.values)\n",
    "fig.show()"
   ]
  },
  {
   "cell_type": "markdown",
   "metadata": {},
   "source": [
    ">> **Note**: The intent of above scatter plot is about **Recommendation** and the intent of previous plot is about **Regular Usage**"
   ]
  },
  {
   "cell_type": "markdown",
   "metadata": {},
   "source": [
    "It's pretty evident from above plot is except **Python**, the next five languages emerging in **Regular Usage** are of different order than the languages **Recommended** for learning\n",
    "\n",
    "Let's check these numbers in India , start with Regular Usage programming language"
   ]
  },
  {
   "cell_type": "code",
   "execution_count": null,
   "metadata": {
    "_kg_hide-input": true
   },
   "outputs": [],
   "source": [
    "#Take out programming language for india seprately and put in Data Dictonary\n",
    "programminglang_india_dict = {\n",
    " 'Python' : (dataset_mcq_india['What programming languages do you use on a regular basis? (Select all that apply) - Selected Choice - Python'].count()),\n",
    " 'R': (dataset_mcq_india['What programming languages do you use on a regular basis? (Select all that apply) - Selected Choice - R'].count()),\n",
    " 'SQL' : (dataset_mcq_india['What programming languages do you use on a regular basis? (Select all that apply) - Selected Choice - SQL'].count()),\n",
    " 'C' : (dataset_mcq_india['What programming languages do you use on a regular basis? (Select all that apply) - Selected Choice - C'].count()),\n",
    " 'C++' : (dataset_mcq_india['What programming languages do you use on a regular basis? (Select all that apply) - Selected Choice - C++'].count()),\n",
    " 'Java ' : (dataset_mcq_india['What programming languages do you use on a regular basis? (Select all that apply) - Selected Choice - Java'].count()),\n",
    " 'Javascript' : (dataset_mcq_india['What programming languages do you use on a regular basis? (Select all that apply) - Selected Choice - Javascript'].count()),\n",
    " 'Typescript' : (dataset_mcq_india['What programming languages do you use on a regular basis? (Select all that apply) - Selected Choice - TypeScript'].count()),\n",
    " 'Bash ' : (dataset_mcq_india['What programming languages do you use on a regular basis? (Select all that apply) - Selected Choice - Bash'].count()),\n",
    " 'MATLAB' : (dataset_mcq_india['What programming languages do you use on a regular basis? (Select all that apply) - Selected Choice - MATLAB'].count())\n",
    "}\n",
    "#Convert Data dictonary to series\n",
    "programminglang_india_series=pd.Series(programminglang_india_dict)\n",
    "#Visualizing onlinecourses series\n",
    "fig = px.scatter(programminglang_india_series, y=programminglang_india_series.values, x=programminglang_india_series.index,size=programminglang_india_series.values)\n",
    "fig.show()"
   ]
  },
  {
   "cell_type": "markdown",
   "metadata": {},
   "source": [
    "Here also **Python** is leading and followed by **SQL** and **R** , let see what is the  recommended language scenario in India for aspiring data scientist"
   ]
  },
  {
   "cell_type": "code",
   "execution_count": null,
   "metadata": {
    "_kg_hide-input": true
   },
   "outputs": [],
   "source": [
    "#Taking out recomemded language from india in a series\n",
    "recommendedlang_india_series = dataset_mcq_india['What programming language would you recommend an aspiring data scientist to learn first? - Selected Choice'].value_counts()\n",
    "#Visualizing recommended programming language series\n",
    "fig = px.scatter(recommendedlang_india_series, y=recommendedlang_india_series.values, x=recommendedlang_india_series.index,size=recommendedlang_india_series.values)\n",
    "fig.show()"
   ]
  },
  {
   "cell_type": "markdown",
   "metadata": {},
   "source": [
    "Well , Indians are also following the rest of the world trend.\n",
    "\n",
    "Now , let's check what are the most commonly used visualization library across the world."
   ]
  },
  {
   "cell_type": "code",
   "execution_count": null,
   "metadata": {
    "_kg_hide-input": true
   },
   "outputs": [],
   "source": [
    "#Take out programming language seprately and put in Data Dictonary\n",
    "visuallib_dict = {\n",
    " 'Ggplot' : (dataset_mcq['What data visualization libraries or tools do you use on a regular basis?  (Select all that apply) - Selected Choice -  Ggplot / ggplot2 '].count()),\n",
    " 'Matplotlib': (dataset_mcq['What data visualization libraries or tools do you use on a regular basis?  (Select all that apply) - Selected Choice -  Matplotlib '].count()),\n",
    " 'Altair' : (dataset_mcq['What data visualization libraries or tools do you use on a regular basis?  (Select all that apply) - Selected Choice -  Altair '].count()),\n",
    " 'Shiny' : (dataset_mcq['What data visualization libraries or tools do you use on a regular basis?  (Select all that apply) - Selected Choice -  Shiny '].count()),\n",
    " 'D3' : (dataset_mcq['What data visualization libraries or tools do you use on a regular basis?  (Select all that apply) - Selected Choice -  D3.js '].count()),\n",
    " 'Plotly' : (dataset_mcq['What data visualization libraries or tools do you use on a regular basis?  (Select all that apply) - Selected Choice -  Plotly / Plotly Express '].count()),\n",
    " 'Bokeh' : (dataset_mcq['What data visualization libraries or tools do you use on a regular basis?  (Select all that apply) - Selected Choice -  Bokeh '].count()),\n",
    " 'Seaborn' : (dataset_mcq['What data visualization libraries or tools do you use on a regular basis?  (Select all that apply) - Selected Choice -  Seaborn '].count()),\n",
    " 'Geoplotlib' : (dataset_mcq['What data visualization libraries or tools do you use on a regular basis?  (Select all that apply) - Selected Choice -  Geoplotlib '].count()),\n",
    " 'Leaflet-Folium' : (dataset_mcq['What data visualization libraries or tools do you use on a regular basis?  (Select all that apply) - Selected Choice -  Leaflet / Folium '].count())\n",
    "}\n",
    "\n",
    "#Convert Data dictonary to series\n",
    "visuallib_series=pd.Series(visuallib_dict)\n",
    "#Visualizing frequently used programming language series\n",
    "fig = px.scatter(visuallib_series, y=visuallib_series.values, x=visuallib_series.index,size=visuallib_series.values)\n",
    "fig.show()\n"
   ]
  },
  {
   "cell_type": "markdown",
   "metadata": {},
   "source": [
    "**Matplotlib** is at top leading with huge margin followed by **Seaborn** , **Ggplot** and **Plotly**.\n",
    "\n",
    ">> **Note** : Matplotlib and Seaborn are a plotting library for the Python programming language and that's why numbers for these visualizing libraries are high because Python is most used language and we can see the correlation\n",
    "\n",
    "Let's check the same trend in India"
   ]
  },
  {
   "cell_type": "code",
   "execution_count": null,
   "metadata": {
    "_kg_hide-input": true
   },
   "outputs": [],
   "source": [
    "#Take out programming language seprately and put in Data Dictonary\n",
    "visuallib_india_dict = {\n",
    " 'Ggplot' : (dataset_mcq_india['What data visualization libraries or tools do you use on a regular basis?  (Select all that apply) - Selected Choice -  Ggplot / ggplot2 '].count()),\n",
    " 'Matplotlib': (dataset_mcq_india['What data visualization libraries or tools do you use on a regular basis?  (Select all that apply) - Selected Choice -  Matplotlib '].count()),\n",
    " 'Altair' : (dataset_mcq_india['What data visualization libraries or tools do you use on a regular basis?  (Select all that apply) - Selected Choice -  Altair '].count()),\n",
    " 'Shiny' : (dataset_mcq_india['What data visualization libraries or tools do you use on a regular basis?  (Select all that apply) - Selected Choice -  Shiny '].count()),\n",
    " 'D3' : (dataset_mcq_india['What data visualization libraries or tools do you use on a regular basis?  (Select all that apply) - Selected Choice -  D3.js '].count()),\n",
    " 'Plotly' : (dataset_mcq_india['What data visualization libraries or tools do you use on a regular basis?  (Select all that apply) - Selected Choice -  Plotly / Plotly Express '].count()),\n",
    " 'Bokeh' : (dataset_mcq_india['What data visualization libraries or tools do you use on a regular basis?  (Select all that apply) - Selected Choice -  Bokeh '].count()),\n",
    " 'Seaborn' : (dataset_mcq_india['What data visualization libraries or tools do you use on a regular basis?  (Select all that apply) - Selected Choice -  Seaborn '].count()),\n",
    " 'Geoplotlib' : (dataset_mcq_india['What data visualization libraries or tools do you use on a regular basis?  (Select all that apply) - Selected Choice -  Geoplotlib '].count()),\n",
    " 'Leaflet-Folium' : (dataset_mcq_india['What data visualization libraries or tools do you use on a regular basis?  (Select all that apply) - Selected Choice -  Leaflet / Folium '].count())\n",
    "}\n",
    "\n",
    "#Convert Data dictonary to series\n",
    "visuallib_india_series=pd.Series(visuallib_india_dict)\n",
    "#Visualizing frequently used programming language series\n",
    "fig = px.scatter(visuallib_india_series, y=visuallib_india_series.values, x=visuallib_india_series.index,size=visuallib_india_series.values)\n",
    "fig.show()\n"
   ]
  },
  {
   "cell_type": "markdown",
   "metadata": {},
   "source": [
    "As expected , this trend is also same in India because of the obvious reason\n",
    "\n",
    "** 📌 Take Away points  **\n",
    "\n",
    "* Python is most used and most recommended language followed by SQL and R, this is same in India and across the world\n",
    "* Other five languages emerging in Regular Usage are of different order than the languages Recommended for aspiring data scientist\n",
    "* Matplotlib is most used visualization library followed by Seaborn , this is related to popularity of Python as both are library for Python programming language\n"
   ]
  },
  {
   "cell_type": "markdown",
   "metadata": {},
   "source": [
    "# Which ML Algorithm ,Tools and Frameworks are Famous"
   ]
  },
  {
   "cell_type": "markdown",
   "metadata": {},
   "source": [
    "In addition to the Programming language and Visualization library I also want to understand the most used machine learning algorithm,tools and frameworks\n",
    "\n",
    "Let's start with Machine Learning algorithm and this time let's compare rest of the world and India's data at the same time"
   ]
  },
  {
   "cell_type": "code",
   "execution_count": null,
   "metadata": {
    "_kg_hide-input": true
   },
   "outputs": [],
   "source": [
    "#Take out machine learning algo seprately and put in Data Dictonary\n",
    "mlaglo_dict = {\n",
    " 'Linear or Logistic Regression' : (dataset_mcq['Which of the following ML algorithms do you use on a regular basis? (Select all that apply): - Selected Choice - Linear or Logistic Regression'].count()),\n",
    " 'Decision Trees or Random Forests': (dataset_mcq['Which of the following ML algorithms do you use on a regular basis? (Select all that apply): - Selected Choice - Decision Trees or Random Forests'].count()),\n",
    " 'Gradient Boosting Machines' : (dataset_mcq['Which of the following ML algorithms do you use on a regular basis? (Select all that apply): - Selected Choice - Gradient Boosting Machines (xgboost, lightgbm, etc)'].count()),\n",
    " 'Bayesian Approaches' : (dataset_mcq['Which of the following ML algorithms do you use on a regular basis? (Select all that apply): - Selected Choice - Bayesian Approaches'].count()),\n",
    " 'Evolutionary Approaches' : (dataset_mcq['Which of the following ML algorithms do you use on a regular basis? (Select all that apply): - Selected Choice - Evolutionary Approaches'].count()),\n",
    " 'Dense Neural Networks (MLPs, etc) ' : (dataset_mcq['Which of the following ML algorithms do you use on a regular basis? (Select all that apply): - Selected Choice - Dense Neural Networks (MLPs, etc)'].count()),\n",
    " 'Convolutional Neural Networks' : (dataset_mcq['Which of the following ML algorithms do you use on a regular basis? (Select all that apply): - Selected Choice - Convolutional Neural Networks'].count()),\n",
    " 'Generative Adversarial Networks ' : (dataset_mcq['Which of the following ML algorithms do you use on a regular basis? (Select all that apply): - Selected Choice - Generative Adversarial Networks'].count()),\n",
    " 'Recurrent Neural Networks' : (dataset_mcq['Which of the following ML algorithms do you use on a regular basis? (Select all that apply): - Selected Choice - Recurrent Neural Networks'].count()),\n",
    " 'Transformer Networks (BERT, gpt-2, etc)' : (dataset_mcq['Which of the following ML algorithms do you use on a regular basis? (Select all that apply): - Selected Choice - Transformer Networks (BERT, gpt-2, etc)'].count()),\n",
    " 'None' : (dataset_mcq['Which of the following ML algorithms do you use on a regular basis? (Select all that apply): - Selected Choice - None'].count()),\n",
    " 'Other' : (dataset_mcq['Which of the following ML algorithms do you use on a regular basis? (Select all that apply): - Selected Choice - Other'].count()),\n",
    "}\n",
    "\n",
    "mlaglo_india_dict = {\n",
    " 'Linear or Logistic Regression' : (dataset_mcq_india['Which of the following ML algorithms do you use on a regular basis? (Select all that apply): - Selected Choice - Linear or Logistic Regression'].count()),\n",
    " 'Decision Trees or Random Forests': (dataset_mcq_india['Which of the following ML algorithms do you use on a regular basis? (Select all that apply): - Selected Choice - Decision Trees or Random Forests'].count()),\n",
    " 'Gradient Boosting Machines' : (dataset_mcq_india['Which of the following ML algorithms do you use on a regular basis? (Select all that apply): - Selected Choice - Gradient Boosting Machines (xgboost, lightgbm, etc)'].count()),\n",
    " 'Bayesian Approaches' : (dataset_mcq_india['Which of the following ML algorithms do you use on a regular basis? (Select all that apply): - Selected Choice - Bayesian Approaches'].count()),\n",
    " 'Evolutionary Approaches' : (dataset_mcq_india['Which of the following ML algorithms do you use on a regular basis? (Select all that apply): - Selected Choice - Evolutionary Approaches'].count()),\n",
    " 'Dense Neural Networks (MLPs, etc) ' : (dataset_mcq_india['Which of the following ML algorithms do you use on a regular basis? (Select all that apply): - Selected Choice - Dense Neural Networks (MLPs, etc)'].count()),\n",
    " 'Convolutional Neural Networks' : (dataset_mcq_india['Which of the following ML algorithms do you use on a regular basis? (Select all that apply): - Selected Choice - Convolutional Neural Networks'].count()),\n",
    " 'Generative Adversarial Networks ' : (dataset_mcq_india['Which of the following ML algorithms do you use on a regular basis? (Select all that apply): - Selected Choice - Generative Adversarial Networks'].count()),\n",
    " 'Recurrent Neural Networks' : (dataset_mcq_india['Which of the following ML algorithms do you use on a regular basis? (Select all that apply): - Selected Choice - Recurrent Neural Networks'].count()),\n",
    " 'Transformer Networks (BERT, gpt-2, etc)' : (dataset_mcq_india['Which of the following ML algorithms do you use on a regular basis? (Select all that apply): - Selected Choice - Transformer Networks (BERT, gpt-2, etc)'].count()),\n",
    " 'None' : (dataset_mcq_india['Which of the following ML algorithms do you use on a regular basis? (Select all that apply): - Selected Choice - None'].count()),\n",
    " 'Other' : (dataset_mcq_india['Which of the following ML algorithms do you use on a regular basis? (Select all that apply): - Selected Choice - Other'].count()),\n",
    "}\n",
    "\n",
    "#Convert Data dictonary to series\n",
    "mlaglo_series=pd.Series(mlaglo_dict)\n",
    "mlaglo_india_series=pd.Series(mlaglo_india_dict)\n",
    "\n",
    "#Visualizing frequently used machine learning algorithm series\n",
    "fig = go.Figure(data=[\n",
    "    go.Bar(name='ROW', x=mlaglo_series.index, y=mlaglo_series.values),\n",
    "    go.Bar(name='India',  x=mlaglo_india_series.index, y=mlaglo_india_series.values)\n",
    "])\n",
    "# Change the bar mode\n",
    "fig.update_layout(barmode='group')\n",
    "fig.show()"
   ]
  },
  {
   "cell_type": "markdown",
   "metadata": {},
   "source": [
    "Well , **Logistic Regression** is at top followed by **Decision Trees and Random Forests** at Second position.\n",
    "\n",
    "Gradient Boosting Machines is at third position with Convolutional Neural Networks at fourth but both are very close in numbers , in India order is reverse with Convolutional Neural network is at third and Gradient Boosting at fourth with slight margin.\n",
    "\n",
    "Let's examine latest machine learning tools"
   ]
  },
  {
   "cell_type": "code",
   "execution_count": null,
   "metadata": {
    "_kg_hide-input": true
   },
   "outputs": [],
   "source": [
    "#Take out machine learning tools seprately and put in Data Dictonary\n",
    "mltool_dict = {\n",
    " 'Automated data augmentation (e.g. imgaug, albumentations)' : (dataset_mcq['Which categories of ML tools do you use on a regular basis?  (Select all that apply) - Selected Choice - Automated data augmentation (e.g. imgaug, albumentations)'].count()),\n",
    " 'Automated feature engineering/selection (e.g. tpot, boruta_py)': (dataset_mcq['Which categories of ML tools do you use on a regular basis?  (Select all that apply) - Selected Choice - Automated feature engineering/selection (e.g. tpot, boruta_py)'].count()),\n",
    " 'Automated model architecture searches (e.g. darts, enas)' : (dataset_mcq['Which categories of ML tools do you use on a regular basis?  (Select all that apply) - Selected Choice - Automated model architecture searches (e.g. darts, enas)'].count()),\n",
    " 'Automated model selection (e.g. auto-sklearn, xcessiv)' : (dataset_mcq['Which categories of ML tools do you use on a regular basis?  (Select all that apply) - Selected Choice - Automated model selection (e.g. auto-sklearn, xcessiv)'].count()),\n",
    " 'Automated hyperparameter tuning (e.g. hyperopt, ray.tune)' : (dataset_mcq['Which categories of ML tools do you use on a regular basis?  (Select all that apply) - Selected Choice - Automated hyperparameter tuning (e.g. hyperopt, ray.tune)'].count()),\n",
    " 'Automation of full ML pipelines (e.g. Google AutoML, H20 Driverless AI)' : (dataset_mcq['Which categories of ML tools do you use on a regular basis?  (Select all that apply) - Selected Choice - Automation of full ML pipelines (e.g. Google AutoML, H20 Driverless AI)'].count()),\n",
    " 'None ' : (dataset_mcq['Which categories of ML tools do you use on a regular basis?  (Select all that apply) - Selected Choice - None'].count()),\n",
    " 'Other' : (dataset_mcq['Which categories of ML tools do you use on a regular basis?  (Select all that apply) - Selected Choice - Other'].count()),\n",
    "}\n",
    " \n",
    "mltool_india_dict = {\n",
    " 'Automated data augmentation (e.g. imgaug, albumentations)' : (dataset_mcq_india['Which categories of ML tools do you use on a regular basis?  (Select all that apply) - Selected Choice - Automated data augmentation (e.g. imgaug, albumentations)'].count()),\n",
    " 'Automated feature engineering/selection (e.g. tpot, boruta_py)': (dataset_mcq_india['Which categories of ML tools do you use on a regular basis?  (Select all that apply) - Selected Choice - Automated feature engineering/selection (e.g. tpot, boruta_py)'].count()),\n",
    " 'Automated model architecture searches (e.g. darts, enas)' : (dataset_mcq_india['Which categories of ML tools do you use on a regular basis?  (Select all that apply) - Selected Choice - Automated model architecture searches (e.g. darts, enas)'].count()),\n",
    " 'Automated model selection (e.g. auto-sklearn, xcessiv)' : (dataset_mcq_india['Which categories of ML tools do you use on a regular basis?  (Select all that apply) - Selected Choice - Automated model selection (e.g. auto-sklearn, xcessiv)'].count()),\n",
    " 'Automated hyperparameter tuning (e.g. hyperopt, ray.tune)' : (dataset_mcq_india['Which categories of ML tools do you use on a regular basis?  (Select all that apply) - Selected Choice - Automated hyperparameter tuning (e.g. hyperopt, ray.tune)'].count()),\n",
    " 'Automation of full ML pipelines (e.g. Google AutoML, H20 Driverless AI)' : (dataset_mcq_india['Which categories of ML tools do you use on a regular basis?  (Select all that apply) - Selected Choice - Automation of full ML pipelines (e.g. Google AutoML, H20 Driverless AI)'].count()),\n",
    " 'None ' : (dataset_mcq_india['Which categories of ML tools do you use on a regular basis?  (Select all that apply) - Selected Choice - None'].count()),\n",
    " 'Other' : (dataset_mcq_india['Which categories of ML tools do you use on a regular basis?  (Select all that apply) - Selected Choice - Other'].count()),\n",
    " }\n",
    " \n",
    " #Convert Data dictonary to series\n",
    "mltool_series=pd.Series(mltool_dict)\n",
    "mltool_india_series=pd.Series(mltool_india_dict)\n",
    "\n",
    "#Visualizing frequently used machine learning algorithm series\n",
    "fig = go.Figure(data=[\n",
    "    go.Bar(name='ROW', x=mltool_series.index, y=mltool_series.values),\n",
    "    go.Bar(name='India',  x=mltool_india_series.index, y=mltool_india_series.values)\n",
    "])\n",
    "# Change the bar mode\n",
    "fig.update_layout(barmode='group')\n",
    "fig.show()"
   ]
  },
  {
   "cell_type": "markdown",
   "metadata": {},
   "source": [
    "Looks like none of the mentioned tools is favorable choice and majority of respondent are not using any framework , trend is same across the world. \n",
    "\n",
    ">> <a> Food for thought : Why people are not interested in using ML framework ? </a>\n",
    "\n",
    "Will check most used machine learning framework  now\n"
   ]
  },
  {
   "cell_type": "code",
   "execution_count": null,
   "metadata": {
    "_kg_hide-input": true
   },
   "outputs": [],
   "source": [
    "#Take out machine learning framework seprately and put in Data Dictonary\n",
    "\n",
    "mlfw_dict = {\n",
    " 'Scikit-learn' : (dataset_mcq['Which of the following machine learning frameworks do you use on a regular basis? (Select all that apply) - Selected Choice -   Scikit-learn '].count()),\n",
    " 'TensorFlow': (dataset_mcq['Which of the following machine learning frameworks do you use on a regular basis? (Select all that apply) - Selected Choice -   TensorFlow '].count()),\n",
    " 'Keras' : (dataset_mcq['Which of the following machine learning frameworks do you use on a regular basis? (Select all that apply) - Selected Choice -  Keras '].count()),\n",
    " 'RandomForest' : (dataset_mcq['Which of the following machine learning frameworks do you use on a regular basis? (Select all that apply) - Selected Choice -  RandomForest'].count()),\n",
    " 'Xgboost' : (dataset_mcq['Which of the following machine learning frameworks do you use on a regular basis? (Select all that apply) - Selected Choice -  Xgboost '].count()),\n",
    " 'PyTorch' : (dataset_mcq['Which of the following machine learning frameworks do you use on a regular basis? (Select all that apply) - Selected Choice -  PyTorch '].count()),\n",
    " 'Caret' : (dataset_mcq['Which of the following machine learning frameworks do you use on a regular basis? (Select all that apply) - Selected Choice -  Caret '].count()),\n",
    " 'LightGBM' : (dataset_mcq['Which of the following machine learning frameworks do you use on a regular basis? (Select all that apply) - Selected Choice -  LightGBM '].count()),\n",
    " 'SparkMLib' : (dataset_mcq['Which of the following machine learning frameworks do you use on a regular basis? (Select all that apply) - Selected Choice -  Spark MLib '].count()),\n",
    " 'Fast.ai' : (dataset_mcq['Which of the following machine learning frameworks do you use on a regular basis? (Select all that apply) - Selected Choice -  Fast.ai '].count()),\n",
    "  'None' : (dataset_mcq['Which of the following machine learning frameworks do you use on a regular basis? (Select all that apply) - Selected Choice - None'].count()),\n",
    " 'Other' : (dataset_mcq['Which of the following machine learning frameworks do you use on a regular basis? (Select all that apply) - Selected Choice - Other'].count())\n",
    "}\n",
    "\n",
    "mlfw_india_dict = {\n",
    " 'Scikit-learn' : (dataset_mcq_india['Which of the following machine learning frameworks do you use on a regular basis? (Select all that apply) - Selected Choice -   Scikit-learn '].count()),\n",
    " 'TensorFlow': (dataset_mcq_india['Which of the following machine learning frameworks do you use on a regular basis? (Select all that apply) - Selected Choice -   TensorFlow '].count()),\n",
    " 'Keras' : (dataset_mcq_india['Which of the following machine learning frameworks do you use on a regular basis? (Select all that apply) - Selected Choice -  Keras '].count()),\n",
    " 'RandomForest' : (dataset_mcq_india['Which of the following machine learning frameworks do you use on a regular basis? (Select all that apply) - Selected Choice -  RandomForest'].count()),\n",
    " 'Xgboost' : (dataset_mcq_india['Which of the following machine learning frameworks do you use on a regular basis? (Select all that apply) - Selected Choice -  Xgboost '].count()),\n",
    " 'PyTorch' : (dataset_mcq_india['Which of the following machine learning frameworks do you use on a regular basis? (Select all that apply) - Selected Choice -  PyTorch '].count()),\n",
    " 'Caret' : (dataset_mcq_india['Which of the following machine learning frameworks do you use on a regular basis? (Select all that apply) - Selected Choice -  Caret '].count()),\n",
    " 'LightGBM' : (dataset_mcq_india['Which of the following machine learning frameworks do you use on a regular basis? (Select all that apply) - Selected Choice -  LightGBM '].count()),\n",
    " 'SparkMLib' : (dataset_mcq_india['Which of the following machine learning frameworks do you use on a regular basis? (Select all that apply) - Selected Choice -  Spark MLib '].count()),\n",
    " 'Fast.ai' : (dataset_mcq_india['Which of the following machine learning frameworks do you use on a regular basis? (Select all that apply) - Selected Choice -  Fast.ai '].count()),\n",
    " 'None' : (dataset_mcq_india['Which of the following machine learning frameworks do you use on a regular basis? (Select all that apply) - Selected Choice - None'].count()),\n",
    " 'Other' : (dataset_mcq_india['Which of the following machine learning frameworks do you use on a regular basis? (Select all that apply) - Selected Choice - Other'].count())\n",
    " }\n",
    "\n",
    " \n",
    " #Convert Data dictonary to series\n",
    "mlfw_series=pd.Series(mlfw_dict)\n",
    "mlfw_india_series=pd.Series(mlfw_india_dict)\n",
    "\n",
    "#Visualizing frequently used machine learning algorithm series\n",
    "fig = go.Figure(data=[\n",
    "    go.Bar(name='ROW', x=mlfw_series.index, y=mlfw_series.values),\n",
    "    go.Bar(name='India',  x=mlfw_india_series.index, y=mlfw_india_series.values)\n",
    "])\n",
    "# Change the bar mode\n",
    "fig.update_layout(barmode='group')\n",
    "fig.show()"
   ]
  },
  {
   "cell_type": "markdown",
   "metadata": {},
   "source": [
    "**Scikit Learn** is a clear winner with big margin , followed by **TensorFlow** and **Keras** , trend is same accross the world.\n",
    "\n",
    "Again , Scikit Learn popularity we can link with Python and Tensor flow is famous becuase it provides excellent functionalities and services when compared to other popular deep learning frameworks\n",
    "\n",
    ">> Another deduction we can make now is : As algorithms **Logistic Regression** and **Decision Trees**  are mostly used and  because of this **Scikit Learn** becomes mostly used as it provides libraries to implement these algorithm \n",
    "\n",
    "** 📌 Take Away points  **\n",
    "   * Mostly used algorithms are  Logistic Regression and Decision Trees and Random Forests\n",
    "   * Mostly used machine learning framework is Scikit Learn\n",
    "   * Programming Language, Algorithms and Framework are correlated to each other (*Python >> Scikit Learn >> Logistic Regression/Decision Tree-Random Forest*)\n",
    "   * None of the mentioned machine learning tools is mostly used \n",
    "   * All trends are same in India and rest the world"
   ]
  },
  {
   "cell_type": "markdown",
   "metadata": {},
   "source": [
    "# Relevant Experiences and Activities"
   ]
  },
  {
   "cell_type": "markdown",
   "metadata": {},
   "source": [
    "At last ,I want to know how much coding and Data Science experience respondents are having and what kind of ML/DS activities they are doing on day to day basis. \n",
    "\n",
    "Let's start with Coding experience across the world."
   ]
  },
  {
   "cell_type": "code",
   "execution_count": null,
   "metadata": {
    "_kg_hide-input": true
   },
   "outputs": [],
   "source": [
    "#Taking out relevant columns related to Experience in different data frame\n",
    "dataset_codemlexp=dataset_mcq[['How long have you been writing code to analyze data (at work or at school)?','For how many years have you used machine learning methods?']]\n",
    "dataset_codemlexp_india=dataset_mcq_india[['How long have you been writing code to analyze data (at work or at school)?','For how many years have you used machine learning methods?']]\n",
    "\n",
    "#Replacing column name to short and relevant name\n",
    "dataset_codemlexp=dataset_codemlexp.rename(columns = {'How long have you been writing code to analyze data (at work or at school)?':'CodeExp','For how many years have you used machine learning methods?':'MLExp'})\n",
    "dataset_codemlexp_india=dataset_codemlexp_india.rename(columns = {'How long have you been writing code to analyze data (at work or at school)?':'CodeExp','For how many years have you used machine learning methods?':'MLExp'})\n",
    "\n",
    "#Converting Code experince into series for visualization\n",
    "codeexp_series_india=pd.Series(dataset_codemlexp_india.iloc[:,0])\n",
    "codeexp_series=pd.Series(dataset_codemlexp.iloc[:,0])\n",
    "\n",
    "#Converting ML experince into series for visualization\n",
    "mlexp_series_india=pd.Series(dataset_codemlexp_india.iloc[:,1])\n",
    "mlexp_series=pd.Series(dataset_codemlexp.iloc[:,1])\n",
    "\n",
    "#Visualizing Code Experince\n",
    "fig = go.Figure(data=[\n",
    "    go.Bar(name='ROW',x=codeexp_series.index,y=codeexp_series.values,orientation='h'),\n",
    "    go.Bar(name='India',x=codeexp_series_india.index, y=codeexp_series_india.values,orientation='h')\n",
    "])\n",
    "# Change the bar mode\n",
    "fig.update_layout(barmode='group')\n",
    "fig.show()"
   ]
  },
  {
   "cell_type": "markdown",
   "metadata": {},
   "source": [
    "Let's check ML Experince now"
   ]
  },
  {
   "cell_type": "code",
   "execution_count": null,
   "metadata": {
    "_kg_hide-input": true
   },
   "outputs": [],
   "source": [
    "#Visualizing Code Experince\n",
    "fig = go.Figure(data=[\n",
    "    go.Bar(name='ROW', x=mlexp_series.index,y=mlexp_series.values,orientation='h'),\n",
    "    go.Bar(name='India',  x=mlexp_series_india.index,y=mlexp_series_india.values,orientation='h')\n",
    "])\n",
    "# Change the bar mode\n",
    "fig.update_layout(barmode='group')\n",
    "fig.show()"
   ]
  },
  {
   "cell_type": "markdown",
   "metadata": {},
   "source": [
    "Well, majority of respondent's coding experience falls under either **<1 year** or **1-2 years** , in India we have more less than 1 year of experience respondents.\n",
    "\n",
    "In India we have fewer people who are in higher range of coding experience , I think this is because majority of respondents from India are students.\n",
    "\n",
    "For ML experience also we can see the same trend that maximum respondents falls under either **<1 year** or **1-2 years** . In India less number of people are in **2-3 years** category which is not the case with rest of the world where we have significant numbers in this category.\n",
    "\n",
    ">> <a>With this we can deduce that Data Science is dominated by younger people, majority of them are having experience less than 3 years , whereas in India majority of them having experience less than 2 years </a>\n",
    "\n",
    "Now , let's see what are the important ML activities at work which people are doing on day to day basis.\n",
    "\n",
    "Let's start with Global level"
   ]
  },
  {
   "cell_type": "code",
   "execution_count": null,
   "metadata": {
    "_kg_hide-input": true
   },
   "outputs": [],
   "source": [
    "#Take out machine learning framework seprately and put in Data Dictonary\n",
    "\n",
    "mltasks_dict = {\n",
    " 'Analyze Data' : (dataset_mcq['Select any activities that make up an important part of your role at work: (Select all that apply) - Selected Choice - Analyze and understand data to influence product or business decisions'].count()),\n",
    " 'Build-Run DataInfrastructure': (dataset_mcq['Select any activities that make up an important part of your role at work: (Select all that apply) - Selected Choice - Build and/or run the data infrastructure that my business uses for storing, analyzing, and operationalizing data'].count()),\n",
    " 'BuildPrototypes' : (dataset_mcq['Select any activities that make up an important part of your role at work: (Select all that apply) - Selected Choice - Build prototypes to explore applying machine learning to new areas'].count()),\n",
    " 'Build-Run MLService' : (dataset_mcq['Select any activities that make up an important part of your role at work: (Select all that apply) - Selected Choice - Build and/or run a machine learning service that operationally improves my product or workflows'].count()),\n",
    " 'Experiment-Iterate ML Model' : (dataset_mcq['Select any activities that make up an important part of your role at work: (Select all that apply) - Selected Choice - Experimentation and iteration to improve existing ML models'].count()),\n",
    " 'AdvanceResearch' : (dataset_mcq['Select any activities that make up an important part of your role at work: (Select all that apply) - Selected Choice - Do research that advances the state of the art of machine learning'].count()),\n",
    " 'None' : (dataset_mcq['Select any activities that make up an important part of your role at work: (Select all that apply) - Selected Choice - None of these activities are an important part of my role at work'].count()),\n",
    " 'Other' : (dataset_mcq['Select any activities that make up an important part of your role at work: (Select all that apply) - Selected Choice - Other'].count()),\n",
    "}\n",
    "\n",
    "mltasks_india_dict = {\n",
    " 'Analyze Data' : (dataset_mcq_india['Select any activities that make up an important part of your role at work: (Select all that apply) - Selected Choice - Analyze and understand data to influence product or business decisions'].count()),\n",
    " 'Build-Run DataInfrastructure': (dataset_mcq_india['Select any activities that make up an important part of your role at work: (Select all that apply) - Selected Choice - Build and/or run the data infrastructure that my business uses for storing, analyzing, and operationalizing data'].count()),\n",
    " 'BuildPrototypes' : (dataset_mcq_india['Select any activities that make up an important part of your role at work: (Select all that apply) - Selected Choice - Build prototypes to explore applying machine learning to new areas'].count()),\n",
    " 'Build-Run MLService' : (dataset_mcq_india['Select any activities that make up an important part of your role at work: (Select all that apply) - Selected Choice - Build and/or run a machine learning service that operationally improves my product or workflows'].count()),\n",
    " 'Experiment-Iterate ML Model' : (dataset_mcq_india['Select any activities that make up an important part of your role at work: (Select all that apply) - Selected Choice - Experimentation and iteration to improve existing ML models'].count()),\n",
    " 'AdvanceResearch' : (dataset_mcq_india['Select any activities that make up an important part of your role at work: (Select all that apply) - Selected Choice - Do research that advances the state of the art of machine learning'].count()),\n",
    " 'None' : (dataset_mcq_india['Select any activities that make up an important part of your role at work: (Select all that apply) - Selected Choice - None of these activities are an important part of my role at work'].count()),\n",
    " 'Other' : (dataset_mcq_india['Select any activities that make up an important part of your role at work: (Select all that apply) - Selected Choice - Other'].count()),\n",
    "}\n",
    "\n",
    " #Convert Data dictonary to series\n",
    "mltasks_series=pd.Series(mltasks_dict)\n",
    "mltasks_india_series=pd.Series(mltasks_india_dict)\n",
    "\n",
    "#Visualize the ml tasks globally\n",
    "fig = px.scatter(mltasks_series, y=mltasks_series.values, x=mltasks_series.index,size=mltasks_series.values,color=mltasks_series.values)\n",
    "fig.show()"
   ]
  },
  {
   "cell_type": "markdown",
   "metadata": {},
   "source": [
    "Let's see what Indians are doing"
   ]
  },
  {
   "cell_type": "code",
   "execution_count": null,
   "metadata": {
    "_kg_hide-input": true
   },
   "outputs": [],
   "source": [
    "#Visualizing ml tasks for Indians\n",
    "fig = px.scatter(mltasks_india_series, y=mltasks_india_series.values, x=mltasks_india_series.index,size=mltasks_india_series.values,color=mltasks_india_series.values)\n",
    "fig.show()"
   ]
  },
  {
   "cell_type": "markdown",
   "metadata": {},
   "source": [
    "Trend is same for India and rest of the world . Majority of respondents spend their time in **Analyzing Data** and then in **Building Prototype** followed by **Experiment and Iterate ML Model , Build and run ML services and Infrastructure**.\n",
    "\n",
    ">>Looks like organization/people are not spending much time in \"Advance Research\" , which is required for increasing horizons in Data Science"
   ]
  },
  {
   "cell_type": "markdown",
   "metadata": {},
   "source": [
    "** 📌 Take Away points  **\n",
    "\n",
    "* Majority of respondant's Coding and ML experince are less than 3 years , in India majority of them are having less than 2 years of experince\n",
    "* Analyzing Data and Building prototype are one of most done activities\n",
    "* Not much advance research is happening , or people who are doing advance research are not spending time at Kaggle :)"
   ]
  },
  {
   "cell_type": "markdown",
   "metadata": {},
   "source": [
    "# Let's Summarize"
   ]
  },
  {
   "cell_type": "markdown",
   "metadata": {},
   "source": [
    "With above EDA I can summarize following points which states about trends in India's Data Science field \n",
    "<a>\n",
    "* Data Science is dominating by Males , this is same across the world\n",
    "* Majority of Indians Kaggler's are Students\n",
    "* Female Data Scientist from India are more interested in Higher education as compare to men , this is same across the world\n",
    "* Majority of Indians Data Scientist are holding Bachelor's degree , this is quite opposite to rest of the world where majority of data scientist holding Master's/Doctoral Degree\n",
    "* Globally people who are in higher salary range have completed Master's/Doctoral Degree but this is not the case with Indians\n",
    "* Data Science young workforce which belongs to age group of '22-29' are in higher salary range , In India this trend starts little late at '25-29' age group \n",
    "* It's quite possible that Indian Data Scientist are lacking in Statistical and mathematical skills\n",
    "* Coursera and Kaggle are most common learning medium in data science field\n",
    "* Python is most used and recommended language across the world and it's popularity encouraged usage of Matplotlib and Seaborn libraries\n",
    "* Python's popularity is also encoraging usuage of Scikit Learn framework and Logistic Regression,Decision Trees/Random Forest Algorithms\n",
    "* Majority of Coding and ML experince falls under less than 3 years , numbers for India is less than 2 years\n",
    "* People are spending time in Analyzing Data and Building prototype and not much people in Advance Research"
   ]
  },
  {
   "cell_type": "markdown",
   "metadata": {},
   "source": [
    "# Last Word !!"
   ]
  },
  {
   "cell_type": "markdown",
   "metadata": {},
   "source": [
    "I have talked about so many data points here but how does it make any sense and how I can relate this to my objective, so I will try to put this in a narrative manner.\n",
    "\n",
    "*Let's start with <a>What is good for India ?</a>. This is very exciting time to be in Data Science field and as established that Indians respondents are more in number , majority of them are students by this we can say that young generation are spending lot of time in improving their data science skill and learning the same which means there are high possibility that in future they will work in Data Science field.*\n",
    "\n",
    "*Data scientist in India who are below 30 years in age are in higher salary bracket while holding only bachelor's degree , which means in India higher salary is not linked with higher education. When it comes to learning we are at par with our rest of the world contemporizes , Kaggle, Coursera and Python and it's related framework/tools are our choice of learning.*\n",
    "\n",
    "*Now , Let's discuss <a>What needs to be improved ?</a> . In 2019 also not many women are turning into STEM/Data Science , if we want flourishing Data Science industry in India then there should be gender diversity.*\n",
    "\n",
    "*Not lot of people are turning up for higher education , this can affect the quality of upcoming data science engineer. I think this could be the possible reason behind not much 'Statistician' job title in India .There is no replacement of university degree and for upcoming breed of data scientist success this is much required.*\n",
    "\n",
    "*As established that Data Science belongs to young generation , but it needs experienced professional also. People with good range of experience from other technical domain  should also try their hand in data science field. This will bring diversity and experience , young blood is full of energy and enthusiasm but it needs right direction which can come from experience and expertise*\n",
    "\n",
    "Well folks , I will rest my case now. If you like the work please upvote and feel free to drop comments for any suggestions/questions.\n"
   ]
  },
  {
   "cell_type": "code",
   "execution_count": null,
   "metadata": {},
   "outputs": [],
   "source": []
  }
 ],
 "metadata": {
  "kernelspec": {
   "display_name": "Python 3",
   "language": "python",
   "name": "python3"
  },
  "language_info": {
   "codemirror_mode": {
    "name": "ipython",
    "version": 3
   },
   "file_extension": ".py",
   "mimetype": "text/x-python",
   "name": "python",
   "nbconvert_exporter": "python",
   "pygments_lexer": "ipython3",
   "version": "3.7.3"
  }
 },
 "nbformat": 4,
 "nbformat_minor": 1
}
